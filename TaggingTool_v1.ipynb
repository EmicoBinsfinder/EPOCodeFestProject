{
  "nbformat": 4,
  "nbformat_minor": 0,
  "metadata": {
    "colab": {
      "provenance": [],
      "authorship_tag": "ABX9TyO0ixkvxCyMDP67z4km8eoe",
      "include_colab_link": true
    },
    "kernelspec": {
      "name": "python3",
      "display_name": "Python 3"
    },
    "language_info": {
      "name": "python"
    }
  },
  "cells": [
    {
      "cell_type": "markdown",
      "metadata": {
        "id": "view-in-github",
        "colab_type": "text"
      },
      "source": [
        "<a href=\"https://colab.research.google.com/github/EmicoBinsfinder/EPOCodeFestProject/blob/main/TaggingTool_v1.ipynb\" target=\"_parent\"><img src=\"https://colab.research.google.com/assets/colab-badge.svg\" alt=\"Open In Colab\"/></a>"
      ]
    },
    {
      "cell_type": "code",
      "execution_count": null,
      "metadata": {
        "cellView": "form",
        "id": "AwZLm-jWYBaO"
      },
      "outputs": [],
      "source": [
        "#@title Configure OpenAI API key\n",
        "\n",
        "# access your OpenAI API key\n",
        "\n",
        "# installing llmx first isn't necessary but avoids a confusing error when installing openai\n",
        "!pip install -q llmx\n",
        "!pip install -q openai\n",
        "from openai import OpenAI\n",
        "import google.generativeai as genai\n",
        "from google.colab import userdata\n",
        "\n",
        "\n",
        "openai_api_secret_name = 'Test'\n",
        "## @param {type: \"string\"}\n",
        "\n",
        "try:\n",
        "  OPENAI_API_KEY=userdata.get(openai_api_secret_name)\n",
        "  client = OpenAI(\n",
        "    api_key=OPENAI_API_KEY\n",
        "  )\n",
        "except userdata.SecretNotFoundError as e:\n",
        "   print(f'''Secret not found\\n\\nThis expects you to create a secret named {openai_api_secret_name} in Colab\\n\\nVisit https://platform.openai.com/api-keys to create an API key\\n\\nStore that in the secrets section on the left side of the notebook (key icon)\\n\\nName the secret {openai_api_secret_name}''')\n",
        "   raise e\n",
        "except userdata.NotebookAccessError as e:\n",
        "  print(f'''You need to grant this notebook access to the {openai_api_secret_name} secret in order for the notebook to access Gemini on your behalf.''')\n",
        "  raise e\n",
        "except Exception as e:\n",
        "  # unknown error\n",
        "  print(f\"There was an unknown error. Ensure you have a secret {openai_api_secret_name} stored in Colab and it's a valid key from https://platform.openai.com/api-keys\")\n",
        "  raise e"
      ]
    },
    {
      "cell_type": "markdown",
      "source": [
        "## System Setup"
      ],
      "metadata": {
        "id": "VDvlToWKzTLa"
      }
    },
    {
      "cell_type": "code",
      "source": [
        "!git clone https://github.com/EmicoBinsfinder/EPOCodeFestProject.git\n",
        "!pip install gradio"
      ],
      "metadata": {
        "id": "efCLY8SmYC9V"
      },
      "execution_count": null,
      "outputs": []
    },
    {
      "cell_type": "code",
      "source": [
        "from google.colab import drive\n",
        "drive.mount('/content/drive')\n",
        "\n",
        "#Path to embedding Model\n",
        "Model_Path = '/content/EPOCodeFestProject/TextSimilarityModel'"
      ],
      "metadata": {
        "id": "vC_VUKLF5lwI"
      },
      "execution_count": null,
      "outputs": []
    },
    {
      "cell_type": "code",
      "source": [
        "########## IMPORTING REQUIRED PYTHON PACKAGES ##########\n",
        "import pandas as pd\n",
        "import tensorflow as tf\n",
        "import numpy as np\n",
        "import matplotlib.pyplot as plt\n",
        "from transformers import AutoTokenizer, AutoModel\n",
        "import torch\n",
        "import math\n",
        "import time\n",
        "import csv\n",
        "import pandas as pd\n",
        "import nltk\n",
        "from nltk.tokenize import word_tokenize\n",
        "from nltk.corpus import stopwords\n",
        "nltk.download('stopwords')\n",
        "nltk.download('punkt')\n",
        "import string\n",
        "import gradio"
      ],
      "metadata": {
        "id": "7mbvLF34rrp2"
      },
      "execution_count": null,
      "outputs": []
    },
    {
      "cell_type": "markdown",
      "source": [
        "## Defining embedding generation"
      ],
      "metadata": {
        "id": "n2opssXczXFA"
      }
    },
    {
      "cell_type": "markdown",
      "source": [
        "### Format embeddings"
      ],
      "metadata": {
        "id": "c8ggBIhn0hPu"
      }
    },
    {
      "cell_type": "code",
      "source": [
        "def mean_pooling(model_output, attention_mask):\n",
        "    token_embeddings = model_output[0] #First element of model_output contains all token embeddings\n",
        "    input_mask_expanded = attention_mask.unsqueeze(-1).expand(token_embeddings.size()).float()\n",
        "    return tf.reduce_sum(token_embeddings * input_mask_expanded, 1) / tf.clip_by_value(input_mask_expanded.sum(1), clip_value_min=1e-9, clip_value_max=math.inf)"
      ],
      "metadata": {
        "id": "pIhfU5Vix57o"
      },
      "execution_count": 6,
      "outputs": []
    },
    {
      "cell_type": "markdown",
      "source": [
        "### Function to embed the input text for similarity searching"
      ],
      "metadata": {
        "id": "mcZPHaSd0pch"
      }
    },
    {
      "cell_type": "code",
      "source": [
        "### Sentence Embedder\n",
        "def sentence_embedder(sentences, model_path):\n",
        "  \"\"\"\n",
        "  Calling the sentence similarity model to generate embeddings on input text.\n",
        "  :param sentences: takes input text in the form of a string\n",
        "  :param model_path: path to the text similarity model\n",
        "  :return returns a (1, 384) embedding of the input text\n",
        "  \"\"\"\n",
        "  tokenizer = AutoTokenizer.from_pretrained(model_path) #instantiating the sentence embedder using HuggingFace library\n",
        "  model = AutoModel.from_pretrained(model_path, from_tf=True) #making a model instance\n",
        "  encoded_input = tokenizer(sentences, padding=True, truncation=True, return_tensors='pt')\n",
        "  # Compute token embeddings\n",
        "  with torch.no_grad():\n",
        "    model_output = model(**encoded_input)\n",
        "  sentence_embeddings = mean_pooling(model_output, encoded_input['attention_mask']) #outputs a (1, 384) tensor representation of input text\n",
        "  return sentence_embeddings"
      ],
      "metadata": {
        "id": "9dAU7mzw4yhv"
      },
      "execution_count": 7,
      "outputs": []
    },
    {
      "cell_type": "markdown",
      "source": [
        "### Load Saved Embeddings"
      ],
      "metadata": {
        "id": "hTPxCNKc40RM"
      }
    },
    {
      "cell_type": "code",
      "source": [
        "class_embeddings = pd.read_csv('/content/EPOCodeFestProject/MainClassEmbeddings.csv')"
      ],
      "metadata": {
        "id": "3J6PxzA7869m"
      },
      "execution_count": null,
      "outputs": []
    },
    {
      "cell_type": "code",
      "source": [
        "### Sentence Embedding Preparation Function\n",
        "def convert_saved_embeddings(embedding_string):\n",
        "    \"\"\"\n",
        "    Preparing pre-computed embeddings for use for comparison with new abstract embeddings .\n",
        "    Pre-computed embeddings are saved as tensors in string format so need to be converted back to numpy arrays in order to calculate cosine similarity.\n",
        "    :param embedding_string:\n",
        "    :return: Should be a single tensor with dims (,384) in string formate\n",
        "    \"\"\"\n",
        "    embedding = embedding_string.replace('(', '')\n",
        "    embedding = embedding.replace(')', '')\n",
        "    embedding = embedding.replace('[', '')\n",
        "    embedding = embedding.replace(']', '')\n",
        "    embedding = embedding.replace('tensor', '')\n",
        "    embedding = embedding.replace(' ', '')\n",
        "    embedding = embedding.split(',')\n",
        "    embedding = [float(x) for x in embedding]\n",
        "    embedding = np.array(embedding)\n",
        "    embedding = np.expand_dims(embedding, axis=0)\n",
        "    embedding = torch.from_numpy(embedding)\n",
        "    return embedding"
      ],
      "metadata": {
        "id": "tO93a3K8v_if"
      },
      "execution_count": 9,
      "outputs": []
    },
    {
      "cell_type": "markdown",
      "source": [
        "### Clean User Input"
      ],
      "metadata": {
        "id": "WXZDBKas8Uu3"
      }
    },
    {
      "cell_type": "code",
      "source": [
        "all_stopwords = stopwords.words('english') # Making sure to only use English stopwords\n",
        "extra_stopwords = ['ii', 'iii'] # Can add extra stopwords to be removed from dataset/input abstracts\n",
        "all_stopwords.extend(extra_stopwords)\n",
        "\n",
        "def clean_data(input, type='Dataframe'):\n",
        "    if type == 'Dataframe':\n",
        "        cleaneddf = pd.DataFrame(columns=['Class', 'Description'])\n",
        "        for i in range(0, len(input)):\n",
        "            row_list = input.loc[i, :].values.flatten().tolist()\n",
        "            noNaN_row = [x for x in row_list if str(x) != 'nan']\n",
        "            listrow = []\n",
        "            if len(noNaN_row) > 0:\n",
        "                row = noNaN_row[:-1]\n",
        "                row = [x.strip() for x in row]\n",
        "                row = (\" \").join(row)\n",
        "                text_tokens = word_tokenize(row)  # splits abstracts into individual tokens to allow removal of stopwords by list comprehension\n",
        "                Stopword_Filtered_List = [word for word in text_tokens if not word in all_stopwords]  # removes stopwords\n",
        "                row = (\" \").join(Stopword_Filtered_List)  # returns abstract to string form\n",
        "                removechars = ['[', ']', '{', '}', ';', '(', ')', ',', '.', ':', '/', '-', '#', '?', '@', '£', '$']\n",
        "                for char in removechars:\n",
        "                    row = list(map(lambda x: x.replace(char, ''), row))\n",
        "\n",
        "                row = ''.join(row)\n",
        "                wnum = row.split(' ')\n",
        "                wnum = [x.lower() for x in wnum]\n",
        "                #remove duplicate words\n",
        "                wnum = list(dict.fromkeys(wnum))\n",
        "                #removing numbers\n",
        "                wonum = []\n",
        "                for x in wnum:\n",
        "                    xv = list(x)\n",
        "                    xv = [i.isnumeric() for i in xv]\n",
        "                    if True in xv:\n",
        "                        continue\n",
        "                    else:\n",
        "                        wonum.append(x)\n",
        "                row = ' '.join(wonum)\n",
        "                l = [noNaN_row[-1], row]\n",
        "                cleaneddf.loc[len(cleaneddf)] = l\n",
        "        cleaneddf = cleaneddf.drop_duplicates(subset=['Description'])\n",
        "        cleaneddf.to_csv('E:/Users/eeo21/Startup/CPC_Classifications_List/additionalcleanedclasses.csv', index=False)\n",
        "        return cleaneddf\n",
        "\n",
        "    elif type == 'String':\n",
        "        text_tokens = word_tokenize(input)  # splits abstracts into individual tokens to allow removal of stopwords by list comprehension\n",
        "        Stopword_Filtered_List = [word for word in text_tokens if not word in all_stopwords]  # removes stopwords\n",
        "        row = (\" \").join(Stopword_Filtered_List)  # returns abstract to string form\n",
        "        removechars = ['[', ']', '{', '}', ';', '(', ')', ',', '.', ':', '/', '-', '#', '?', '@', '£', '$']\n",
        "        for char in removechars:\n",
        "            row = list(map(lambda x: x.replace(char, ''), row))\n",
        "        row = ''.join(row)\n",
        "        wnum = row.split(' ')\n",
        "        wnum = [x.lower() for x in wnum]\n",
        "        # remove duplicate words\n",
        "        wnum = list(dict.fromkeys(wnum))\n",
        "        # removing numbers\n",
        "        wonum = []\n",
        "        for x in wnum:\n",
        "            xv = list(x)\n",
        "            xv = [i.isnumeric() for i in xv]\n",
        "            if True in xv:\n",
        "                continue\n",
        "            else:\n",
        "                wonum.append(x)\n",
        "        row = ' '.join(wonum)\n",
        "        return row"
      ],
      "metadata": {
        "id": "Gt7Gfums8Wnh"
      },
      "execution_count": 16,
      "outputs": []
    },
    {
      "cell_type": "markdown",
      "source": [
        "### Function for CPC Class Prediction"
      ],
      "metadata": {
        "id": "D2hTFnal5__M"
      }
    },
    {
      "cell_type": "code",
      "source": [
        "def broad_scope_class_predictor(class_embeddings, abstract_embedding, N=10, Sensitivity='Medium'):\n",
        "    predictions = pd.DataFrame(columns=['Class Name', 'Score', 'Description'])\n",
        "    for i in range(len(class_embeddings)):\n",
        "        class_name = class_embeddings.iloc[i, 0]\n",
        "        embedding = class_embeddings.iloc[i, 2]\n",
        "        description = class_embeddings.iloc[i, 1]\n",
        "        embedding = convert_saved_embeddings(embedding)\n",
        "        abstract_embedding = abstract_embedding.numpy()\n",
        "        abstract_embedding = torch.from_numpy(abstract_embedding)\n",
        "        cos = torch.nn.CosineSimilarity(dim=1)\n",
        "        score = cos(abstract_embedding, embedding).numpy().tolist()\n",
        "        result = [class_name, score[0], description]\n",
        "        predictions.loc[len(predictions)] = result\n",
        "\n",
        "    HighestSimilarityDF = predictions.nlargest(N, ['Score'])\n",
        "    HighestSimilarity = HighestSimilarityDF['Class Name'].tolist()\n",
        "    Description = HighestSimilarityDF['Description'].tolist()\n",
        "    HighestSimilarityClass = [x for x in HighestSimilarity]\n",
        "\n",
        "    Links = [f'https://www.patbase.com/classSnapshot/public/?class={x}&system=CPC' for x in HighestSimilarityClass]\n",
        "\n",
        "    HighestSimilarity = pd.DataFrame({'Class':HighestSimilarity, 'Links':Links, 'Description':Description})\n",
        "    Description = ' '.join(Description[:5])\n",
        "\n",
        "    return HighestSimilarity, Description\n",
        "\n",
        "def classifier(userin):\n",
        "    cleaned_input = clean_data(userin, type='String')\n",
        "    input_embedding = sentence_embedder(cleaned_input, Model_Path)\n",
        "\n",
        "    Number = 10\n",
        "    broad_scope_predictions, descriptions = broad_scope_class_predictor(class_embeddings, input_embedding, Number, Sensitivity='High')\n",
        "\n",
        "    return broad_scope_predictions, descriptions\n"
      ],
      "metadata": {
        "id": "SyXfZcrB6GxJ"
      },
      "execution_count": 45,
      "outputs": []
    },
    {
      "cell_type": "markdown",
      "source": [
        "#Input Claim Set/Description/Abstract Here!"
      ],
      "metadata": {
        "id": "jqCMTAQD7KdF"
      }
    },
    {
      "cell_type": "code",
      "source": [
        "Claims = 'Protection device (3; 103) of an optical sensor (13) for a motor vehicle (100), characterized in that the protection device (3; 103) comprises: - a housing (4) mounted to rotate about an axis of rotation (A1), the housing (4) having a housing (19) configured to receive the optical sensor (13) so that the optical axis (15 ) of the optical sensor (13) is coincident with the axis of rotation (Al), - a transparent optical element (9) integral in rotation with the housing (4) configured to be disposed at the front of the housing (4) facing a road scene whose optical sensor (13) is configured to participate in the taking of views, and centered with respect to the optical sensor (13), and - An actuator (5) coupled to the housing (4) for rotating the housing (4), so as to allow cleaning of said optical element (9) by centrifugal effect. 2. Protection device (3; 103) according to claim 1, wherein the housing (19) for the optical sensor (13) is defined by a wall (21) of the housing (4). 3. Protective device (3; 103) according to the preceding claim, wherein the wall (21) is centered around the axis of rotation (Al) of the housing (4). 4. Protective device (3; 103) according to any one of the preceding claims, wherein the housing (4) has at least one through hole (210). 5. Protective device (103) according to any one of the preceding claims, in which the actuator (5) is arranged at the rear of the housing (4).'\n",
        "\n",
        "predictions, CPC_Descriptions = classifier(Claims)\n",
        "predictions\n"
      ],
      "metadata": {
        "id": "NuwAtI637RU-",
        "colab": {
          "base_uri": "https://localhost:8080/",
          "height": 780
        },
        "outputId": "f1021038-2c4d-424e-b073-6fade8aa0912"
      },
      "execution_count": 53,
      "outputs": [
        {
          "output_type": "stream",
          "name": "stderr",
          "text": [
            "All TF 2.0 model weights were used when initializing BertModel.\n",
            "\n",
            "All the weights of BertModel were initialized from the TF 2.0 model.\n",
            "If your task is similar to the task the model of the checkpoint was trained on, you can already use BertModel for predictions without further training.\n"
          ]
        },
        {
          "output_type": "stream",
          "name": "stdout",
          "text": [
            "       Class Name     Score                                        Description\n",
            "2982     B60Q1/00  0.503652  vehicles in general arrangement of signalling ...\n",
            "2994     B60R1/00  0.483059  vehicles in general  vehicle fittings or parts...\n",
            "3234     B62J6/00  0.455897  land vehicles for travelling otherwise than on...\n",
            "3005    B60R21/00  0.447691  vehicles in general  vehicle fittings or parts...\n",
            "2987    B60Q11/00  0.446090  vehicles in general arrangement of signalling ...\n",
            "2919     B60J3/00  0.441313  vehicles in general windows  windscreens nonfi...\n",
            "2993  B60Q2900/00  0.440610  vehicles in general arrangement of signalling ...\n",
            "7050     F21S6/00  0.427310  lighting nonportable devices  systems thereof ...\n",
            "2991  B60Q2500/00  0.416965  vehicles in general arrangement of signalling ...\n",
            "7070    F21V15/00  0.416304  lighting functional features or details of dev...\n"
          ]
        },
        {
          "output_type": "execute_result",
          "data": {
            "text/plain": [
              "         Class                                              Links  \\\n",
              "0     B60Q1/00  https://www.patbase.com/classSnapshot/public/?...   \n",
              "1     B60R1/00  https://www.patbase.com/classSnapshot/public/?...   \n",
              "2     B62J6/00  https://www.patbase.com/classSnapshot/public/?...   \n",
              "3    B60R21/00  https://www.patbase.com/classSnapshot/public/?...   \n",
              "4    B60Q11/00  https://www.patbase.com/classSnapshot/public/?...   \n",
              "5     B60J3/00  https://www.patbase.com/classSnapshot/public/?...   \n",
              "6  B60Q2900/00  https://www.patbase.com/classSnapshot/public/?...   \n",
              "7     F21S6/00  https://www.patbase.com/classSnapshot/public/?...   \n",
              "8  B60Q2500/00  https://www.patbase.com/classSnapshot/public/?...   \n",
              "9    F21V15/00  https://www.patbase.com/classSnapshot/public/?...   \n",
              "\n",
              "                                         Description  \n",
              "0  vehicles in general arrangement of signalling ...  \n",
              "1  vehicles in general  vehicle fittings or parts...  \n",
              "2  land vehicles for travelling otherwise than on...  \n",
              "3  vehicles in general  vehicle fittings or parts...  \n",
              "4  vehicles in general arrangement of signalling ...  \n",
              "5  vehicles in general windows  windscreens nonfi...  \n",
              "6  vehicles in general arrangement of signalling ...  \n",
              "7  lighting nonportable devices  systems thereof ...  \n",
              "8  vehicles in general arrangement of signalling ...  \n",
              "9  lighting functional features or details of dev...  "
            ],
            "text/html": [
              "\n",
              "  <div id=\"df-6e654f65-fff5-48f0-98d2-1a0e91236800\" class=\"colab-df-container\">\n",
              "    <div>\n",
              "<style scoped>\n",
              "    .dataframe tbody tr th:only-of-type {\n",
              "        vertical-align: middle;\n",
              "    }\n",
              "\n",
              "    .dataframe tbody tr th {\n",
              "        vertical-align: top;\n",
              "    }\n",
              "\n",
              "    .dataframe thead th {\n",
              "        text-align: right;\n",
              "    }\n",
              "</style>\n",
              "<table border=\"1\" class=\"dataframe\">\n",
              "  <thead>\n",
              "    <tr style=\"text-align: right;\">\n",
              "      <th></th>\n",
              "      <th>Class</th>\n",
              "      <th>Links</th>\n",
              "      <th>Description</th>\n",
              "    </tr>\n",
              "  </thead>\n",
              "  <tbody>\n",
              "    <tr>\n",
              "      <th>0</th>\n",
              "      <td>B60Q1/00</td>\n",
              "      <td>https://www.patbase.com/classSnapshot/public/?...</td>\n",
              "      <td>vehicles in general arrangement of signalling ...</td>\n",
              "    </tr>\n",
              "    <tr>\n",
              "      <th>1</th>\n",
              "      <td>B60R1/00</td>\n",
              "      <td>https://www.patbase.com/classSnapshot/public/?...</td>\n",
              "      <td>vehicles in general  vehicle fittings or parts...</td>\n",
              "    </tr>\n",
              "    <tr>\n",
              "      <th>2</th>\n",
              "      <td>B62J6/00</td>\n",
              "      <td>https://www.patbase.com/classSnapshot/public/?...</td>\n",
              "      <td>land vehicles for travelling otherwise than on...</td>\n",
              "    </tr>\n",
              "    <tr>\n",
              "      <th>3</th>\n",
              "      <td>B60R21/00</td>\n",
              "      <td>https://www.patbase.com/classSnapshot/public/?...</td>\n",
              "      <td>vehicles in general  vehicle fittings or parts...</td>\n",
              "    </tr>\n",
              "    <tr>\n",
              "      <th>4</th>\n",
              "      <td>B60Q11/00</td>\n",
              "      <td>https://www.patbase.com/classSnapshot/public/?...</td>\n",
              "      <td>vehicles in general arrangement of signalling ...</td>\n",
              "    </tr>\n",
              "    <tr>\n",
              "      <th>5</th>\n",
              "      <td>B60J3/00</td>\n",
              "      <td>https://www.patbase.com/classSnapshot/public/?...</td>\n",
              "      <td>vehicles in general windows  windscreens nonfi...</td>\n",
              "    </tr>\n",
              "    <tr>\n",
              "      <th>6</th>\n",
              "      <td>B60Q2900/00</td>\n",
              "      <td>https://www.patbase.com/classSnapshot/public/?...</td>\n",
              "      <td>vehicles in general arrangement of signalling ...</td>\n",
              "    </tr>\n",
              "    <tr>\n",
              "      <th>7</th>\n",
              "      <td>F21S6/00</td>\n",
              "      <td>https://www.patbase.com/classSnapshot/public/?...</td>\n",
              "      <td>lighting nonportable devices  systems thereof ...</td>\n",
              "    </tr>\n",
              "    <tr>\n",
              "      <th>8</th>\n",
              "      <td>B60Q2500/00</td>\n",
              "      <td>https://www.patbase.com/classSnapshot/public/?...</td>\n",
              "      <td>vehicles in general arrangement of signalling ...</td>\n",
              "    </tr>\n",
              "    <tr>\n",
              "      <th>9</th>\n",
              "      <td>F21V15/00</td>\n",
              "      <td>https://www.patbase.com/classSnapshot/public/?...</td>\n",
              "      <td>lighting functional features or details of dev...</td>\n",
              "    </tr>\n",
              "  </tbody>\n",
              "</table>\n",
              "</div>\n",
              "    <div class=\"colab-df-buttons\">\n",
              "\n",
              "  <div class=\"colab-df-container\">\n",
              "    <button class=\"colab-df-convert\" onclick=\"convertToInteractive('df-6e654f65-fff5-48f0-98d2-1a0e91236800')\"\n",
              "            title=\"Convert this dataframe to an interactive table.\"\n",
              "            style=\"display:none;\">\n",
              "\n",
              "  <svg xmlns=\"http://www.w3.org/2000/svg\" height=\"24px\" viewBox=\"0 -960 960 960\">\n",
              "    <path d=\"M120-120v-720h720v720H120Zm60-500h600v-160H180v160Zm220 220h160v-160H400v160Zm0 220h160v-160H400v160ZM180-400h160v-160H180v160Zm440 0h160v-160H620v160ZM180-180h160v-160H180v160Zm440 0h160v-160H620v160Z\"/>\n",
              "  </svg>\n",
              "    </button>\n",
              "\n",
              "  <style>\n",
              "    .colab-df-container {\n",
              "      display:flex;\n",
              "      gap: 12px;\n",
              "    }\n",
              "\n",
              "    .colab-df-convert {\n",
              "      background-color: #E8F0FE;\n",
              "      border: none;\n",
              "      border-radius: 50%;\n",
              "      cursor: pointer;\n",
              "      display: none;\n",
              "      fill: #1967D2;\n",
              "      height: 32px;\n",
              "      padding: 0 0 0 0;\n",
              "      width: 32px;\n",
              "    }\n",
              "\n",
              "    .colab-df-convert:hover {\n",
              "      background-color: #E2EBFA;\n",
              "      box-shadow: 0px 1px 2px rgba(60, 64, 67, 0.3), 0px 1px 3px 1px rgba(60, 64, 67, 0.15);\n",
              "      fill: #174EA6;\n",
              "    }\n",
              "\n",
              "    .colab-df-buttons div {\n",
              "      margin-bottom: 4px;\n",
              "    }\n",
              "\n",
              "    [theme=dark] .colab-df-convert {\n",
              "      background-color: #3B4455;\n",
              "      fill: #D2E3FC;\n",
              "    }\n",
              "\n",
              "    [theme=dark] .colab-df-convert:hover {\n",
              "      background-color: #434B5C;\n",
              "      box-shadow: 0px 1px 3px 1px rgba(0, 0, 0, 0.15);\n",
              "      filter: drop-shadow(0px 1px 2px rgba(0, 0, 0, 0.3));\n",
              "      fill: #FFFFFF;\n",
              "    }\n",
              "  </style>\n",
              "\n",
              "    <script>\n",
              "      const buttonEl =\n",
              "        document.querySelector('#df-6e654f65-fff5-48f0-98d2-1a0e91236800 button.colab-df-convert');\n",
              "      buttonEl.style.display =\n",
              "        google.colab.kernel.accessAllowed ? 'block' : 'none';\n",
              "\n",
              "      async function convertToInteractive(key) {\n",
              "        const element = document.querySelector('#df-6e654f65-fff5-48f0-98d2-1a0e91236800');\n",
              "        const dataTable =\n",
              "          await google.colab.kernel.invokeFunction('convertToInteractive',\n",
              "                                                    [key], {});\n",
              "        if (!dataTable) return;\n",
              "\n",
              "        const docLinkHtml = 'Like what you see? Visit the ' +\n",
              "          '<a target=\"_blank\" href=https://colab.research.google.com/notebooks/data_table.ipynb>data table notebook</a>'\n",
              "          + ' to learn more about interactive tables.';\n",
              "        element.innerHTML = '';\n",
              "        dataTable['output_type'] = 'display_data';\n",
              "        await google.colab.output.renderOutput(dataTable, element);\n",
              "        const docLink = document.createElement('div');\n",
              "        docLink.innerHTML = docLinkHtml;\n",
              "        element.appendChild(docLink);\n",
              "      }\n",
              "    </script>\n",
              "  </div>\n",
              "\n",
              "\n",
              "<div id=\"df-c7564013-39d8-43de-be34-6453be546613\">\n",
              "  <button class=\"colab-df-quickchart\" onclick=\"quickchart('df-c7564013-39d8-43de-be34-6453be546613')\"\n",
              "            title=\"Suggest charts\"\n",
              "            style=\"display:none;\">\n",
              "\n",
              "<svg xmlns=\"http://www.w3.org/2000/svg\" height=\"24px\"viewBox=\"0 0 24 24\"\n",
              "     width=\"24px\">\n",
              "    <g>\n",
              "        <path d=\"M19 3H5c-1.1 0-2 .9-2 2v14c0 1.1.9 2 2 2h14c1.1 0 2-.9 2-2V5c0-1.1-.9-2-2-2zM9 17H7v-7h2v7zm4 0h-2V7h2v10zm4 0h-2v-4h2v4z\"/>\n",
              "    </g>\n",
              "</svg>\n",
              "  </button>\n",
              "\n",
              "<style>\n",
              "  .colab-df-quickchart {\n",
              "      --bg-color: #E8F0FE;\n",
              "      --fill-color: #1967D2;\n",
              "      --hover-bg-color: #E2EBFA;\n",
              "      --hover-fill-color: #174EA6;\n",
              "      --disabled-fill-color: #AAA;\n",
              "      --disabled-bg-color: #DDD;\n",
              "  }\n",
              "\n",
              "  [theme=dark] .colab-df-quickchart {\n",
              "      --bg-color: #3B4455;\n",
              "      --fill-color: #D2E3FC;\n",
              "      --hover-bg-color: #434B5C;\n",
              "      --hover-fill-color: #FFFFFF;\n",
              "      --disabled-bg-color: #3B4455;\n",
              "      --disabled-fill-color: #666;\n",
              "  }\n",
              "\n",
              "  .colab-df-quickchart {\n",
              "    background-color: var(--bg-color);\n",
              "    border: none;\n",
              "    border-radius: 50%;\n",
              "    cursor: pointer;\n",
              "    display: none;\n",
              "    fill: var(--fill-color);\n",
              "    height: 32px;\n",
              "    padding: 0;\n",
              "    width: 32px;\n",
              "  }\n",
              "\n",
              "  .colab-df-quickchart:hover {\n",
              "    background-color: var(--hover-bg-color);\n",
              "    box-shadow: 0 1px 2px rgba(60, 64, 67, 0.3), 0 1px 3px 1px rgba(60, 64, 67, 0.15);\n",
              "    fill: var(--button-hover-fill-color);\n",
              "  }\n",
              "\n",
              "  .colab-df-quickchart-complete:disabled,\n",
              "  .colab-df-quickchart-complete:disabled:hover {\n",
              "    background-color: var(--disabled-bg-color);\n",
              "    fill: var(--disabled-fill-color);\n",
              "    box-shadow: none;\n",
              "  }\n",
              "\n",
              "  .colab-df-spinner {\n",
              "    border: 2px solid var(--fill-color);\n",
              "    border-color: transparent;\n",
              "    border-bottom-color: var(--fill-color);\n",
              "    animation:\n",
              "      spin 1s steps(1) infinite;\n",
              "  }\n",
              "\n",
              "  @keyframes spin {\n",
              "    0% {\n",
              "      border-color: transparent;\n",
              "      border-bottom-color: var(--fill-color);\n",
              "      border-left-color: var(--fill-color);\n",
              "    }\n",
              "    20% {\n",
              "      border-color: transparent;\n",
              "      border-left-color: var(--fill-color);\n",
              "      border-top-color: var(--fill-color);\n",
              "    }\n",
              "    30% {\n",
              "      border-color: transparent;\n",
              "      border-left-color: var(--fill-color);\n",
              "      border-top-color: var(--fill-color);\n",
              "      border-right-color: var(--fill-color);\n",
              "    }\n",
              "    40% {\n",
              "      border-color: transparent;\n",
              "      border-right-color: var(--fill-color);\n",
              "      border-top-color: var(--fill-color);\n",
              "    }\n",
              "    60% {\n",
              "      border-color: transparent;\n",
              "      border-right-color: var(--fill-color);\n",
              "    }\n",
              "    80% {\n",
              "      border-color: transparent;\n",
              "      border-right-color: var(--fill-color);\n",
              "      border-bottom-color: var(--fill-color);\n",
              "    }\n",
              "    90% {\n",
              "      border-color: transparent;\n",
              "      border-bottom-color: var(--fill-color);\n",
              "    }\n",
              "  }\n",
              "</style>\n",
              "\n",
              "  <script>\n",
              "    async function quickchart(key) {\n",
              "      const quickchartButtonEl =\n",
              "        document.querySelector('#' + key + ' button');\n",
              "      quickchartButtonEl.disabled = true;  // To prevent multiple clicks.\n",
              "      quickchartButtonEl.classList.add('colab-df-spinner');\n",
              "      try {\n",
              "        const charts = await google.colab.kernel.invokeFunction(\n",
              "            'suggestCharts', [key], {});\n",
              "      } catch (error) {\n",
              "        console.error('Error during call to suggestCharts:', error);\n",
              "      }\n",
              "      quickchartButtonEl.classList.remove('colab-df-spinner');\n",
              "      quickchartButtonEl.classList.add('colab-df-quickchart-complete');\n",
              "    }\n",
              "    (() => {\n",
              "      let quickchartButtonEl =\n",
              "        document.querySelector('#df-c7564013-39d8-43de-be34-6453be546613 button');\n",
              "      quickchartButtonEl.style.display =\n",
              "        google.colab.kernel.accessAllowed ? 'block' : 'none';\n",
              "    })();\n",
              "  </script>\n",
              "</div>\n",
              "    </div>\n",
              "  </div>\n"
            ],
            "application/vnd.google.colaboratory.intrinsic+json": {
              "type": "dataframe",
              "variable_name": "predictions",
              "summary": "{\n  \"name\": \"predictions\",\n  \"rows\": 10,\n  \"fields\": [\n    {\n      \"column\": \"Class\",\n      \"properties\": {\n        \"dtype\": \"string\",\n        \"num_unique_values\": 10,\n        \"samples\": [\n          \"B60Q2500/00\",\n          \"B60R1/00\",\n          \"B60J3/00\"\n        ],\n        \"semantic_type\": \"\",\n        \"description\": \"\"\n      }\n    },\n    {\n      \"column\": \"Links\",\n      \"properties\": {\n        \"dtype\": \"string\",\n        \"num_unique_values\": 10,\n        \"samples\": [\n          \"https://www.patbase.com/classSnapshot/public/?class=B60Q2500/00&system=CPC\",\n          \"https://www.patbase.com/classSnapshot/public/?class=B60R1/00&system=CPC\",\n          \"https://www.patbase.com/classSnapshot/public/?class=B60J3/00&system=CPC\"\n        ],\n        \"semantic_type\": \"\",\n        \"description\": \"\"\n      }\n    },\n    {\n      \"column\": \"Description\",\n      \"properties\": {\n        \"dtype\": \"string\",\n        \"num_unique_values\": 10,\n        \"samples\": [\n          \"vehicles in general arrangement of signalling or lighting devices  the mounting supporting thereof circuits therefor for special features arrangements vehicle interior lamps\",\n          \"vehicles in general  vehicle fittings or parts not otherwise provided for optical viewing arrangements realtime drivers passengers using image capturing systems eg cameras video specially adapted use\",\n          \"vehicles in general windows  windscreens nonfixed roofs doors or similar devices for removable external protective coverings specially adapted fastening suspending closing opening antiglare equipment associated optical viewing arrangements sun visors appliances storing holding personal property\"\n        ],\n        \"semantic_type\": \"\",\n        \"description\": \"\"\n      }\n    }\n  ]\n}"
            }
          },
          "metadata": {},
          "execution_count": 53
        }
      ]
    },
    {
      "cell_type": "markdown",
      "source": [
        "###Prompt Creation"
      ],
      "metadata": {
        "id": "7giOE3Tw6ziR"
      }
    },
    {
      "cell_type": "code",
      "source": [
        "Prompt = f'''Based on the description below and the patent claim set, generate a list relevant tags related to the claims where the\n",
        "tags fall into one of the following categories:\n",
        "\n",
        "1. Product: What is the general product area\n",
        "2. Function: What is the function of the invention\n",
        "3. Component: What components do the invention comprise\n",
        "4. Invention type: Is it for example a method claim, apparatus claim, method-of-use\n",
        "\n",
        "For each tag, also return which of the 4 categories it belongs to in the following format:\n",
        "\n",
        "Attempt to extract as many unique components from the claims as possible.\n",
        "\n",
        "{{Tag: Category}}\n",
        "\n",
        "Description:\n",
        "{CPC_Descriptions}\n",
        "\n",
        "Claims:\n",
        "{Claims}\n",
        "'''\n",
        "\n",
        "completion = client.chat.completions.create(\n",
        "model=\"gpt-4-0125-preview\",\n",
        "messages=[\n",
        "{\"role\": \"user\", \"content\": '%s -- Please answer as concisely as you can, avoiding any extra conversation or text' % Prompt}\n",
        "]\n",
        ")\n",
        "\n",
        "response = completion.choices[0].message.content\n",
        "response"
      ],
      "metadata": {
        "id": "h5ns4L-UYPxj",
        "colab": {
          "base_uri": "https://localhost:8080/",
          "height": 53
        },
        "outputId": "c949feb0-98fc-4360-e2bc-02a18b811fef"
      },
      "execution_count": 55,
      "outputs": [
        {
          "output_type": "execute_result",
          "data": {
            "text/plain": [
              "'{Motor Vehicle: Product}\\n{Optical Sensor Protection: Function}\\n{Housing: Component}\\n{Transparent Optical Element: Component}\\n{Actuator: Component}\\n{Rotation Axis: Component}\\n{Centrifugal Cleaning: Function}\\n{Through Hole: Component}\\n{Apparatus Claim: Invention Type}'"
            ],
            "application/vnd.google.colaboratory.intrinsic+json": {
              "type": "string"
            }
          },
          "metadata": {},
          "execution_count": 55
        }
      ]
    },
    {
      "cell_type": "markdown",
      "source": [
        "TODO: Integrate into"
      ],
      "metadata": {
        "id": "RI26vOs9AFaG"
      }
    },
    {
      "cell_type": "code",
      "source": [
        "def chatbot(input):\n",
        "  predictions, CPC_Descriptions = classifier(input)\n",
        "\n",
        "  class_links = []\n",
        "  for i in range(len(predictions)):\n",
        "    class_links.append(\"[{}]({})\".format(predictions['Class'][i], predictions['Links'][i]))\n",
        "\n",
        "  links = '\\n'.join(class_links)\n",
        "\n",
        "  completion = client.chat.completions.create(\n",
        "  model=\"gpt-4-0125-preview\",\n",
        "  messages=[\n",
        "  {\"role\": \"user\", \"content\": '%s -- Please answer as concisely as you can, avoiding any extra conversation or text' % Prompt}\n",
        "  ]\n",
        "  )\n",
        "\n",
        "  response = completion.choices[0].message.content\n",
        "\n",
        "  response = '\\n'.join([response, f\"{'#'*120} \\n\"])\n",
        "  response = '\\n'.join([response, f\"Classes USED TO GENERATE RESPONSE:\\n {links}\"])\n",
        "\n",
        "  return response\n",
        "\n",
        "inputs = gradio.Textbox(lines=7, label=\"Generate tags and CPC classifications based on patent claims\")\n",
        "outputs = gradio.Textbox(label=\"Reply\")\n",
        "\n",
        "gradio.Interface(fn=chatbot, inputs=inputs, outputs=outputs, title=\"Patent Tagging Prototype\",\n",
        "             theme=\"compact\").launch(share=True, debug=True)"
      ],
      "metadata": {
        "id": "UUiITGnU3I0W",
        "colab": {
          "base_uri": "https://localhost:8080/",
          "height": 1000
        },
        "outputId": "c9aefbf6-33b8-48f2-b9b7-9e201b0f132d"
      },
      "execution_count": 66,
      "outputs": [
        {
          "output_type": "stream",
          "name": "stderr",
          "text": [
            "/usr/local/lib/python3.10/dist-packages/gradio/blocks.py:555: UserWarning: Cannot load compact. Caught Exception: 404 Client Error: Not Found for url: https://huggingface.co/api/spaces/compact (Request ID: Root=1-65e9c48e-11ba70477df66eff3adc5165;090db8b1-6ec5-442e-bc6e-d12fcabde314)\n",
            "\n",
            "Sorry, we can't find the page you are looking for.\n",
            "  warnings.warn(f\"Cannot load {theme}. Caught Exception: {str(e)}\")\n"
          ]
        },
        {
          "output_type": "stream",
          "name": "stdout",
          "text": [
            "Colab notebook detected. This cell will run indefinitely so that you can see errors and logs. To turn off, set debug=False in launch().\n",
            "Running on public URL: https://837ed8b96de1dd6bf1.gradio.live\n",
            "\n",
            "This share link expires in 72 hours. For free permanent hosting and GPU upgrades, run `gradio deploy` from Terminal to deploy to Spaces (https://huggingface.co/spaces)\n"
          ]
        },
        {
          "output_type": "display_data",
          "data": {
            "text/plain": [
              "<IPython.core.display.HTML object>"
            ],
            "text/html": [
              "<div><iframe src=\"https://837ed8b96de1dd6bf1.gradio.live\" width=\"100%\" height=\"500\" allow=\"autoplay; camera; microphone; clipboard-read; clipboard-write;\" frameborder=\"0\" allowfullscreen></iframe></div>"
            ]
          },
          "metadata": {}
        },
        {
          "output_type": "stream",
          "name": "stderr",
          "text": [
            "All TF 2.0 model weights were used when initializing BertModel.\n",
            "\n",
            "All the weights of BertModel were initialized from the TF 2.0 model.\n",
            "If your task is similar to the task the model of the checkpoint was trained on, you can already use BertModel for predictions without further training.\n"
          ]
        },
        {
          "output_type": "stream",
          "name": "stdout",
          "text": [
            "       Class Name     Score                                        Description\n",
            "8365    G09F17/00  0.240451  education  cryptography display advertising se...\n",
            "8364    G09F15/00  0.231229  education  cryptography display advertising se...\n",
            "8362    G09F11/00  0.220925  education  cryptography display advertising se...\n",
            "8366    G09F19/00  0.206503  education  cryptography display advertising se...\n",
            "9059  H04H2201/00  0.204572  electric communication technique broadcast  mu...\n",
            "8358     G09F3/00  0.202155  education  cryptography display advertising se...\n",
            "8363    G09F13/00  0.191516  education  cryptography display advertising se...\n",
            "8352     G09C1/00  0.190778  education  cryptography display advertising se...\n",
            "8367    G09F21/00  0.190301  education  cryptography display advertising se...\n",
            "8360     G09F7/00  0.190058  education  cryptography display advertising se...\n"
          ]
        },
        {
          "output_type": "stream",
          "name": "stderr",
          "text": [
            "All TF 2.0 model weights were used when initializing BertModel.\n",
            "\n",
            "All the weights of BertModel were initialized from the TF 2.0 model.\n",
            "If your task is similar to the task the model of the checkpoint was trained on, you can already use BertModel for predictions without further training.\n"
          ]
        },
        {
          "output_type": "stream",
          "name": "stdout",
          "text": [
            "       Class Name     Score                                        Description\n",
            "6849    F16H15/00  0.629792  engineering elements and units  general measur...\n",
            "6873    F16H63/00  0.610352  engineering elements and units  general measur...\n",
            "6847     F16H9/00  0.608114  engineering elements and units  general measur...\n",
            "6845     F16H3/00  0.606114  engineering elements and units  general measur...\n",
            "6848    F16H13/00  0.604977  engineering elements and units  general measur...\n",
            "6855    F16H29/00  0.601729  engineering elements and units  general measur...\n",
            "6850    F16H19/00  0.600272  engineering elements and units  general measur...\n",
            "6871    F16H59/00  0.600117  engineering elements and units  general measur...\n",
            "6888  F16H2716/00  0.597021  engineering elements and units  general measur...\n",
            "6872    F16H61/00  0.595447  engineering elements and units  general measur...\n",
            "Keyboard interruption in main thread... closing server.\n",
            "Killing tunnel 127.0.0.1:7861 <> https://837ed8b96de1dd6bf1.gradio.live\n"
          ]
        },
        {
          "output_type": "execute_result",
          "data": {
            "text/plain": []
          },
          "metadata": {},
          "execution_count": 66
        }
      ]
    }
  ]
}