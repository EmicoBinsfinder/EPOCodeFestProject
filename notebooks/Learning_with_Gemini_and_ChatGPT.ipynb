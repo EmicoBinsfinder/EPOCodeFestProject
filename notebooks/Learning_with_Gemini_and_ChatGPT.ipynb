{
  "nbformat": 4,
  "nbformat_minor": 0,
  "metadata": {
    "colab": {
      "provenance": []
    },
    "kernelspec": {
      "name": "python3",
      "display_name": "Python 3"
    },
    "language_info": {
      "name": "python"
    }
  },
  "cells": [
    {
      "cell_type": "code",
      "source": [
        "#@title Configure OpenAI API key\n",
        "\n",
        "# access your OpenAI API key\n",
        "\n",
        "# installing llmx first isn't necessary but avoids a confusing error when installing openai\n",
        "# !pip install -q llmx\n",
        "# !pip install -q openai\n",
        "from openai import OpenAI\n",
        "import google.generativeai as genai\n",
        "from google.colab import userdata\n",
        "\n",
        "\n",
        "openai_api_secret_name = 'Test'  # @param {type: \"string\"}\n",
        "\n",
        "try:\n",
        "  OPENAI_API_KEY=userdata.get(openai_api_secret_name)\n",
        "  client = OpenAI(\n",
        "    api_key=OPENAI_API_KEY\n",
        "  )\n",
        "except userdata.SecretNotFoundError as e:\n",
        "   print(f'''Secret not found\\n\\nThis expects you to create a secret named {openai_api_secret_name} in Colab\\n\\nVisit https://platform.openai.com/api-keys to create an API key\\n\\nStore that in the secrets section on the left side of the notebook (key icon)\\n\\nName the secret {openai_api_secret_name}''')\n",
        "   raise e\n",
        "except userdata.NotebookAccessError as e:\n",
        "  print(f'''You need to grant this notebook access to the {openai_api_secret_name} secret in order for the notebook to access Gemini on your behalf.''')\n",
        "  raise e\n",
        "except Exception as e:\n",
        "  # unknown error\n",
        "  print(f\"There was an unknown error. Ensure you have a secret {openai_api_secret_name} stored in Colab and it's a valid key from https://platform.openai.com/api-keys\")\n",
        "  raise e\n"
      ],
      "metadata": {
        "id": "yFv1abRcv2P2"
      },
      "execution_count": 5,
      "outputs": []
    },
    {
      "cell_type": "code",
      "source": [
        "!git clone https://github.com/EmicoBinsfinder/EPOCodeFestProject.git"
      ],
      "metadata": {
        "id": "qvbJlxQrixr6"
      },
      "execution_count": null,
      "outputs": []
    },
    {
      "cell_type": "code",
      "source": [
        "#@title Ask a question!\n",
        "\n",
        "text = '''Based on the description below, and the patent claim, generate a list of relevant\n",
        "\n",
        "Description:\n",
        "human necessities agriculture  forestry animal husbandry hunting trapping fishing soil working in or parts details accessories of agricultural machines implements general making covering furrows holes sowing planting manuring engineering purposes measuring areas hand tools edge trimmers lawns\n",
        "\n",
        "Claims:\n",
        "\n",
        "\n",
        "\n",
        "'''\n",
        "\n",
        "## @param {type:\"string\"}\n",
        "\n",
        "# ask ChatGPT\n",
        "completion = client.chat.completions.create(\n",
        "  model=\"gpt-4-turbo\",\n",
        "  messages=[\n",
        "    {\"role\": \"user\", \"content\": '%s -- Please answer as concisely as you can, avoiding any extra conversation or text' % text}\n",
        "  ]\n",
        ")\n",
        "\n",
        "openai_response = completion.choices[0].message.content\n",
        "\n",
        "print(openai_response)\n"
      ],
      "metadata": {
        "colab": {
          "base_uri": "https://localhost:8080/"
        },
        "id": "timFyiyRYEqz",
        "outputId": "9681bfe8-29f8-426a-9290-df044f07b531"
      },
      "execution_count": 8,
      "outputs": [
        {
          "output_type": "stream",
          "name": "stdout",
          "text": [
            "from math import radians, sin, cos, sqrt, atan2\n",
            "\n",
            "def calc_distance(lat1, lon1, lat2, lon2):\n",
            "    R = 6371  # Radius of the Earth in km\n",
            "\n",
            "    lat1 = radians(lat1)\n",
            "    lon1 = radians(lon1)\n",
            "    lat2 = radians(lat2)\n",
            "    lon2 = radians(lon2)\n",
            "\n",
            "    dlat = lat2 - lat1\n",
            "    dlon = lon2 - lon1\n",
            "\n",
            "    a = sin(dlat / 2)**2 + cos(lat1) * cos(lat2) * sin(dlon / 2)**2\n",
            "    c = 2 * atan2(sqrt(a), sqrt(1 - a))\n",
            "\n",
            "    distance = R * c\n",
            "\n",
            "    return distance\n",
            "\n",
            "# Test the function\n",
            "distance = calc_distance(37.7749, -122.4194, 34.0522, -118.2437)\n",
            "print(distance)\n"
          ]
        }
      ]
    }
  ]
}