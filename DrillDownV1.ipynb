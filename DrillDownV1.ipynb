{
  "nbformat": 4,
  "nbformat_minor": 0,
  "metadata": {
    "colab": {
      "provenance": [],
      "authorship_tag": "ABX9TyPmdHFiJzzJC+ijvxjHcWNa",
      "include_colab_link": true
    },
    "kernelspec": {
      "name": "python3",
      "display_name": "Python 3"
    },
    "language_info": {
      "name": "python"
    }
  },
  "cells": [
    {
      "cell_type": "markdown",
      "metadata": {
        "id": "view-in-github",
        "colab_type": "text"
      },
      "source": [
        "<a href=\"https://colab.research.google.com/github/EmicoBinsfinder/EPOCodeFestProject/blob/main/DrillDownV1.ipynb\" target=\"_parent\"><img src=\"https://colab.research.google.com/assets/colab-badge.svg\" alt=\"Open In Colab\"/></a>"
      ]
    },
    {
      "cell_type": "code",
      "execution_count": 19,
      "metadata": {
        "id": "AwZLm-jWYBaO",
        "cellView": "form"
      },
      "outputs": [],
      "source": [
        "#@title Configure OpenAI API key\n",
        "\n",
        "# access your OpenAI API key\n",
        "\n",
        "# installing llmx first isn't necessary but avoids a confusing error when installing openai\n",
        "!pip install -q llmx\n",
        "!pip install -q openai\n",
        "from openai import OpenAI\n",
        "import google.generativeai as genai\n",
        "from google.colab import userdata\n",
        "\n",
        "\n",
        "openai_api_secret_name = 'Test'\n",
        "## @param {type: \"string\"}\n",
        "\n",
        "try:\n",
        "  OPENAI_API_KEY=userdata.get(openai_api_secret_name)\n",
        "  OpenAIclient = OpenAI(\n",
        "    api_key=OPENAI_API_KEY\n",
        "  )\n",
        "except userdata.SecretNotFoundError as e:\n",
        "   print(f'''Secret not found\\n\\nThis expects you to create a secret named {openai_api_secret_name} in Colab\\n\\nVisit https://platform.openai.com/api-keys to create an API key\\n\\nStore that in the secrets section on the left side of the notebook (key icon)\\n\\nName the secret {openai_api_secret_name}''')\n",
        "   raise e\n",
        "except userdata.NotebookAccessError as e:\n",
        "  print(f'''You need to grant this notebook access to the {openai_api_secret_name} secret in order for the notebook to access Gemini on your behalf.''')\n",
        "  raise e\n",
        "except Exception as e:\n",
        "  # unknown error\n",
        "  print(f\"There was an unknown error. Ensure you have a secret {openai_api_secret_name} stored in Colab and it's a valid key from https://platform.openai.com/api-keys\")\n",
        "  raise e"
      ]
    },
    {
      "cell_type": "markdown",
      "source": [
        "### System Setup"
      ],
      "metadata": {
        "id": "VDvlToWKzTLa"
      }
    },
    {
      "cell_type": "code",
      "source": [
        "!pip install gradio\n",
        "!pip install elasticsearch\n",
        "!pip install langchain"
      ],
      "metadata": {
        "id": "efCLY8SmYC9V",
        "outputId": "c07379e3-8d9a-4d76-a3c2-9a903da546a9",
        "colab": {
          "base_uri": "https://localhost:8080/"
        }
      },
      "execution_count": 20,
      "outputs": [
        {
          "output_type": "stream",
          "name": "stdout",
          "text": [
            "Requirement already satisfied: gradio in /usr/local/lib/python3.10/dist-packages (4.22.0)\n",
            "Requirement already satisfied: aiofiles<24.0,>=22.0 in /usr/local/lib/python3.10/dist-packages (from gradio) (23.2.1)\n",
            "Requirement already satisfied: altair<6.0,>=4.2.0 in /usr/local/lib/python3.10/dist-packages (from gradio) (4.2.2)\n",
            "Requirement already satisfied: fastapi in /usr/local/lib/python3.10/dist-packages (from gradio) (0.110.0)\n",
            "Requirement already satisfied: ffmpy in /usr/local/lib/python3.10/dist-packages (from gradio) (0.3.2)\n",
            "Requirement already satisfied: gradio-client==0.13.0 in /usr/local/lib/python3.10/dist-packages (from gradio) (0.13.0)\n",
            "Requirement already satisfied: httpx>=0.24.1 in /usr/local/lib/python3.10/dist-packages (from gradio) (0.27.0)\n",
            "Requirement already satisfied: huggingface-hub>=0.19.3 in /usr/local/lib/python3.10/dist-packages (from gradio) (0.20.3)\n",
            "Requirement already satisfied: importlib-resources<7.0,>=1.3 in /usr/local/lib/python3.10/dist-packages (from gradio) (6.3.0)\n",
            "Requirement already satisfied: jinja2<4.0 in /usr/local/lib/python3.10/dist-packages (from gradio) (3.1.3)\n",
            "Requirement already satisfied: markupsafe~=2.0 in /usr/local/lib/python3.10/dist-packages (from gradio) (2.1.5)\n",
            "Requirement already satisfied: matplotlib~=3.0 in /usr/local/lib/python3.10/dist-packages (from gradio) (3.7.1)\n",
            "Requirement already satisfied: numpy~=1.0 in /usr/local/lib/python3.10/dist-packages (from gradio) (1.25.2)\n",
            "Requirement already satisfied: orjson~=3.0 in /usr/local/lib/python3.10/dist-packages (from gradio) (3.9.15)\n",
            "Requirement already satisfied: packaging in /usr/local/lib/python3.10/dist-packages (from gradio) (23.2)\n",
            "Requirement already satisfied: pandas<3.0,>=1.0 in /usr/local/lib/python3.10/dist-packages (from gradio) (1.5.3)\n",
            "Requirement already satisfied: pillow<11.0,>=8.0 in /usr/local/lib/python3.10/dist-packages (from gradio) (9.4.0)\n",
            "Requirement already satisfied: pydantic>=2.0 in /usr/local/lib/python3.10/dist-packages (from gradio) (2.6.4)\n",
            "Requirement already satisfied: pydub in /usr/local/lib/python3.10/dist-packages (from gradio) (0.25.1)\n",
            "Requirement already satisfied: python-multipart>=0.0.9 in /usr/local/lib/python3.10/dist-packages (from gradio) (0.0.9)\n",
            "Requirement already satisfied: pyyaml<7.0,>=5.0 in /usr/local/lib/python3.10/dist-packages (from gradio) (6.0.1)\n",
            "Requirement already satisfied: ruff>=0.2.2 in /usr/local/lib/python3.10/dist-packages (from gradio) (0.3.3)\n",
            "Requirement already satisfied: semantic-version~=2.0 in /usr/local/lib/python3.10/dist-packages (from gradio) (2.10.0)\n",
            "Requirement already satisfied: tomlkit==0.12.0 in /usr/local/lib/python3.10/dist-packages (from gradio) (0.12.0)\n",
            "Requirement already satisfied: typer[all]<1.0,>=0.9 in /usr/local/lib/python3.10/dist-packages (from gradio) (0.9.0)\n",
            "Requirement already satisfied: typing-extensions~=4.0 in /usr/local/lib/python3.10/dist-packages (from gradio) (4.10.0)\n",
            "Requirement already satisfied: uvicorn>=0.14.0 in /usr/local/lib/python3.10/dist-packages (from gradio) (0.29.0)\n",
            "Requirement already satisfied: fsspec in /usr/local/lib/python3.10/dist-packages (from gradio-client==0.13.0->gradio) (2023.6.0)\n",
            "Requirement already satisfied: websockets<12.0,>=10.0 in /usr/local/lib/python3.10/dist-packages (from gradio-client==0.13.0->gradio) (11.0.3)\n",
            "Requirement already satisfied: entrypoints in /usr/local/lib/python3.10/dist-packages (from altair<6.0,>=4.2.0->gradio) (0.4)\n",
            "Requirement already satisfied: jsonschema>=3.0 in /usr/local/lib/python3.10/dist-packages (from altair<6.0,>=4.2.0->gradio) (4.19.2)\n",
            "Requirement already satisfied: toolz in /usr/local/lib/python3.10/dist-packages (from altair<6.0,>=4.2.0->gradio) (0.12.1)\n",
            "Requirement already satisfied: anyio in /usr/local/lib/python3.10/dist-packages (from httpx>=0.24.1->gradio) (3.7.1)\n",
            "Requirement already satisfied: certifi in /usr/local/lib/python3.10/dist-packages (from httpx>=0.24.1->gradio) (2024.2.2)\n",
            "Requirement already satisfied: httpcore==1.* in /usr/local/lib/python3.10/dist-packages (from httpx>=0.24.1->gradio) (1.0.4)\n",
            "Requirement already satisfied: idna in /usr/local/lib/python3.10/dist-packages (from httpx>=0.24.1->gradio) (3.6)\n",
            "Requirement already satisfied: sniffio in /usr/local/lib/python3.10/dist-packages (from httpx>=0.24.1->gradio) (1.3.1)\n",
            "Requirement already satisfied: h11<0.15,>=0.13 in /usr/local/lib/python3.10/dist-packages (from httpcore==1.*->httpx>=0.24.1->gradio) (0.14.0)\n",
            "Requirement already satisfied: filelock in /usr/local/lib/python3.10/dist-packages (from huggingface-hub>=0.19.3->gradio) (3.13.1)\n",
            "Requirement already satisfied: requests in /usr/local/lib/python3.10/dist-packages (from huggingface-hub>=0.19.3->gradio) (2.31.0)\n",
            "Requirement already satisfied: tqdm>=4.42.1 in /usr/local/lib/python3.10/dist-packages (from huggingface-hub>=0.19.3->gradio) (4.66.2)\n",
            "Requirement already satisfied: contourpy>=1.0.1 in /usr/local/lib/python3.10/dist-packages (from matplotlib~=3.0->gradio) (1.2.0)\n",
            "Requirement already satisfied: cycler>=0.10 in /usr/local/lib/python3.10/dist-packages (from matplotlib~=3.0->gradio) (0.12.1)\n",
            "Requirement already satisfied: fonttools>=4.22.0 in /usr/local/lib/python3.10/dist-packages (from matplotlib~=3.0->gradio) (4.49.0)\n",
            "Requirement already satisfied: kiwisolver>=1.0.1 in /usr/local/lib/python3.10/dist-packages (from matplotlib~=3.0->gradio) (1.4.5)\n",
            "Requirement already satisfied: pyparsing>=2.3.1 in /usr/local/lib/python3.10/dist-packages (from matplotlib~=3.0->gradio) (3.1.2)\n",
            "Requirement already satisfied: python-dateutil>=2.7 in /usr/local/lib/python3.10/dist-packages (from matplotlib~=3.0->gradio) (2.8.2)\n",
            "Requirement already satisfied: pytz>=2020.1 in /usr/local/lib/python3.10/dist-packages (from pandas<3.0,>=1.0->gradio) (2023.4)\n",
            "Requirement already satisfied: annotated-types>=0.4.0 in /usr/local/lib/python3.10/dist-packages (from pydantic>=2.0->gradio) (0.6.0)\n",
            "Requirement already satisfied: pydantic-core==2.16.3 in /usr/local/lib/python3.10/dist-packages (from pydantic>=2.0->gradio) (2.16.3)\n",
            "Requirement already satisfied: click<9.0.0,>=7.1.1 in /usr/local/lib/python3.10/dist-packages (from typer[all]<1.0,>=0.9->gradio) (8.1.7)\n",
            "Requirement already satisfied: colorama<0.5.0,>=0.4.3 in /usr/local/lib/python3.10/dist-packages (from typer[all]<1.0,>=0.9->gradio) (0.4.6)\n",
            "Requirement already satisfied: shellingham<2.0.0,>=1.3.0 in /usr/local/lib/python3.10/dist-packages (from typer[all]<1.0,>=0.9->gradio) (1.5.4)\n",
            "Requirement already satisfied: rich<14.0.0,>=10.11.0 in /usr/local/lib/python3.10/dist-packages (from typer[all]<1.0,>=0.9->gradio) (13.7.1)\n",
            "Requirement already satisfied: starlette<0.37.0,>=0.36.3 in /usr/local/lib/python3.10/dist-packages (from fastapi->gradio) (0.36.3)\n",
            "Requirement already satisfied: attrs>=22.2.0 in /usr/local/lib/python3.10/dist-packages (from jsonschema>=3.0->altair<6.0,>=4.2.0->gradio) (23.2.0)\n",
            "Requirement already satisfied: jsonschema-specifications>=2023.03.6 in /usr/local/lib/python3.10/dist-packages (from jsonschema>=3.0->altair<6.0,>=4.2.0->gradio) (2023.12.1)\n",
            "Requirement already satisfied: referencing>=0.28.4 in /usr/local/lib/python3.10/dist-packages (from jsonschema>=3.0->altair<6.0,>=4.2.0->gradio) (0.33.0)\n",
            "Requirement already satisfied: rpds-py>=0.7.1 in /usr/local/lib/python3.10/dist-packages (from jsonschema>=3.0->altair<6.0,>=4.2.0->gradio) (0.18.0)\n",
            "Requirement already satisfied: six>=1.5 in /usr/local/lib/python3.10/dist-packages (from python-dateutil>=2.7->matplotlib~=3.0->gradio) (1.16.0)\n",
            "Requirement already satisfied: markdown-it-py>=2.2.0 in /usr/local/lib/python3.10/dist-packages (from rich<14.0.0,>=10.11.0->typer[all]<1.0,>=0.9->gradio) (3.0.0)\n",
            "Requirement already satisfied: pygments<3.0.0,>=2.13.0 in /usr/local/lib/python3.10/dist-packages (from rich<14.0.0,>=10.11.0->typer[all]<1.0,>=0.9->gradio) (2.16.1)\n",
            "Requirement already satisfied: exceptiongroup in /usr/local/lib/python3.10/dist-packages (from anyio->httpx>=0.24.1->gradio) (1.2.0)\n",
            "Requirement already satisfied: charset-normalizer<4,>=2 in /usr/local/lib/python3.10/dist-packages (from requests->huggingface-hub>=0.19.3->gradio) (3.3.2)\n",
            "Requirement already satisfied: urllib3<3,>=1.21.1 in /usr/local/lib/python3.10/dist-packages (from requests->huggingface-hub>=0.19.3->gradio) (2.0.7)\n",
            "Requirement already satisfied: mdurl~=0.1 in /usr/local/lib/python3.10/dist-packages (from markdown-it-py>=2.2.0->rich<14.0.0,>=10.11.0->typer[all]<1.0,>=0.9->gradio) (0.1.2)\n",
            "Requirement already satisfied: elasticsearch in /usr/local/lib/python3.10/dist-packages (8.12.1)\n",
            "Requirement already satisfied: elastic-transport<9,>=8 in /usr/local/lib/python3.10/dist-packages (from elasticsearch) (8.12.0)\n",
            "Requirement already satisfied: urllib3<3,>=1.26.2 in /usr/local/lib/python3.10/dist-packages (from elastic-transport<9,>=8->elasticsearch) (2.0.7)\n",
            "Requirement already satisfied: certifi in /usr/local/lib/python3.10/dist-packages (from elastic-transport<9,>=8->elasticsearch) (2024.2.2)\n",
            "Requirement already satisfied: langchain in /usr/local/lib/python3.10/dist-packages (0.1.12)\n",
            "Requirement already satisfied: PyYAML>=5.3 in /usr/local/lib/python3.10/dist-packages (from langchain) (6.0.1)\n",
            "Requirement already satisfied: SQLAlchemy<3,>=1.4 in /usr/local/lib/python3.10/dist-packages (from langchain) (2.0.28)\n",
            "Requirement already satisfied: aiohttp<4.0.0,>=3.8.3 in /usr/local/lib/python3.10/dist-packages (from langchain) (3.9.3)\n",
            "Requirement already satisfied: async-timeout<5.0.0,>=4.0.0 in /usr/local/lib/python3.10/dist-packages (from langchain) (4.0.3)\n",
            "Requirement already satisfied: dataclasses-json<0.7,>=0.5.7 in /usr/local/lib/python3.10/dist-packages (from langchain) (0.6.4)\n",
            "Requirement already satisfied: jsonpatch<2.0,>=1.33 in /usr/local/lib/python3.10/dist-packages (from langchain) (1.33)\n",
            "Requirement already satisfied: langchain-community<0.1,>=0.0.28 in /usr/local/lib/python3.10/dist-packages (from langchain) (0.0.28)\n",
            "Requirement already satisfied: langchain-core<0.2.0,>=0.1.31 in /usr/local/lib/python3.10/dist-packages (from langchain) (0.1.32)\n",
            "Requirement already satisfied: langchain-text-splitters<0.1,>=0.0.1 in /usr/local/lib/python3.10/dist-packages (from langchain) (0.0.1)\n",
            "Requirement already satisfied: langsmith<0.2.0,>=0.1.17 in /usr/local/lib/python3.10/dist-packages (from langchain) (0.1.31)\n",
            "Requirement already satisfied: numpy<2,>=1 in /usr/local/lib/python3.10/dist-packages (from langchain) (1.25.2)\n",
            "Requirement already satisfied: pydantic<3,>=1 in /usr/local/lib/python3.10/dist-packages (from langchain) (2.6.4)\n",
            "Requirement already satisfied: requests<3,>=2 in /usr/local/lib/python3.10/dist-packages (from langchain) (2.31.0)\n",
            "Requirement already satisfied: tenacity<9.0.0,>=8.1.0 in /usr/local/lib/python3.10/dist-packages (from langchain) (8.2.3)\n",
            "Requirement already satisfied: aiosignal>=1.1.2 in /usr/local/lib/python3.10/dist-packages (from aiohttp<4.0.0,>=3.8.3->langchain) (1.3.1)\n",
            "Requirement already satisfied: attrs>=17.3.0 in /usr/local/lib/python3.10/dist-packages (from aiohttp<4.0.0,>=3.8.3->langchain) (23.2.0)\n",
            "Requirement already satisfied: frozenlist>=1.1.1 in /usr/local/lib/python3.10/dist-packages (from aiohttp<4.0.0,>=3.8.3->langchain) (1.4.1)\n",
            "Requirement already satisfied: multidict<7.0,>=4.5 in /usr/local/lib/python3.10/dist-packages (from aiohttp<4.0.0,>=3.8.3->langchain) (6.0.5)\n",
            "Requirement already satisfied: yarl<2.0,>=1.0 in /usr/local/lib/python3.10/dist-packages (from aiohttp<4.0.0,>=3.8.3->langchain) (1.9.4)\n",
            "Requirement already satisfied: marshmallow<4.0.0,>=3.18.0 in /usr/local/lib/python3.10/dist-packages (from dataclasses-json<0.7,>=0.5.7->langchain) (3.21.1)\n",
            "Requirement already satisfied: typing-inspect<1,>=0.4.0 in /usr/local/lib/python3.10/dist-packages (from dataclasses-json<0.7,>=0.5.7->langchain) (0.9.0)\n",
            "Requirement already satisfied: jsonpointer>=1.9 in /usr/local/lib/python3.10/dist-packages (from jsonpatch<2.0,>=1.33->langchain) (2.4)\n",
            "Requirement already satisfied: anyio<5,>=3 in /usr/local/lib/python3.10/dist-packages (from langchain-core<0.2.0,>=0.1.31->langchain) (3.7.1)\n",
            "Requirement already satisfied: packaging<24.0,>=23.2 in /usr/local/lib/python3.10/dist-packages (from langchain-core<0.2.0,>=0.1.31->langchain) (23.2)\n",
            "Requirement already satisfied: orjson<4.0.0,>=3.9.14 in /usr/local/lib/python3.10/dist-packages (from langsmith<0.2.0,>=0.1.17->langchain) (3.9.15)\n",
            "Requirement already satisfied: annotated-types>=0.4.0 in /usr/local/lib/python3.10/dist-packages (from pydantic<3,>=1->langchain) (0.6.0)\n",
            "Requirement already satisfied: pydantic-core==2.16.3 in /usr/local/lib/python3.10/dist-packages (from pydantic<3,>=1->langchain) (2.16.3)\n",
            "Requirement already satisfied: typing-extensions>=4.6.1 in /usr/local/lib/python3.10/dist-packages (from pydantic<3,>=1->langchain) (4.10.0)\n",
            "Requirement already satisfied: charset-normalizer<4,>=2 in /usr/local/lib/python3.10/dist-packages (from requests<3,>=2->langchain) (3.3.2)\n",
            "Requirement already satisfied: idna<4,>=2.5 in /usr/local/lib/python3.10/dist-packages (from requests<3,>=2->langchain) (3.6)\n",
            "Requirement already satisfied: urllib3<3,>=1.21.1 in /usr/local/lib/python3.10/dist-packages (from requests<3,>=2->langchain) (2.0.7)\n",
            "Requirement already satisfied: certifi>=2017.4.17 in /usr/local/lib/python3.10/dist-packages (from requests<3,>=2->langchain) (2024.2.2)\n",
            "Requirement already satisfied: greenlet!=0.4.17 in /usr/local/lib/python3.10/dist-packages (from SQLAlchemy<3,>=1.4->langchain) (3.0.3)\n",
            "Requirement already satisfied: sniffio>=1.1 in /usr/local/lib/python3.10/dist-packages (from anyio<5,>=3->langchain-core<0.2.0,>=0.1.31->langchain) (1.3.1)\n",
            "Requirement already satisfied: exceptiongroup in /usr/local/lib/python3.10/dist-packages (from anyio<5,>=3->langchain-core<0.2.0,>=0.1.31->langchain) (1.2.0)\n",
            "Requirement already satisfied: mypy-extensions>=0.3.0 in /usr/local/lib/python3.10/dist-packages (from typing-inspect<1,>=0.4.0->dataclasses-json<0.7,>=0.5.7->langchain) (1.0.0)\n"
          ]
        }
      ]
    },
    {
      "cell_type": "code",
      "source": [
        "########## IMPORTING REQUIRED PYTHON PACKAGES ##########\n",
        "import pandas as pd\n",
        "import tensorflow as tf\n",
        "import numpy as np\n",
        "import matplotlib.pyplot as plt\n",
        "from transformers import AutoTokenizer, AutoModel\n",
        "import torch\n",
        "import math\n",
        "import time\n",
        "import csv\n",
        "import pandas as pd\n",
        "import nltk\n",
        "from nltk.tokenize import word_tokenize\n",
        "from nltk.corpus import stopwords\n",
        "nltk.download('stopwords')\n",
        "nltk.download('punkt')\n",
        "import string\n",
        "import gradio\n",
        "import os\n",
        "import pprint\n",
        "from elasticsearch import Elasticsearch\n",
        "from langchain.llms import OpenAI\n",
        "from langchain.chains import ConversationalRetrievalChain\n",
        "from langchain.memory import ElasticsearchChatMessageHistory\n",
        "from uuid import uuid4\n",
        "import os, sys\n",
        "import json, csv"
      ],
      "metadata": {
        "id": "7mbvLF34rrp2",
        "outputId": "3f316126-2a39-4b6e-950f-bee34574bbce",
        "colab": {
          "base_uri": "https://localhost:8080/"
        }
      },
      "execution_count": 21,
      "outputs": [
        {
          "output_type": "stream",
          "name": "stderr",
          "text": [
            "[nltk_data] Downloading package stopwords to /root/nltk_data...\n",
            "[nltk_data]   Package stopwords is already up-to-date!\n",
            "[nltk_data] Downloading package punkt to /root/nltk_data...\n",
            "[nltk_data]   Package punkt is already up-to-date!\n"
          ]
        }
      ]
    },
    {
      "cell_type": "code",
      "source": [
        "# Get my os environment\n",
        "os.environ['ELASTICSEARCH_PASSWORD'] = 'l0ng-r4nd0m-p@ssw0rd'\n",
        "pwd = os.environ[\"ELASTICSEARCH_PASSWORD\"]\n",
        "\n",
        "# Password for the 'elastic' user generated by Elasticsearch\n",
        "ELASTIC_PASSWORD = pwd\n",
        "\n",
        "# Found in the 'Manage Deployment' page\n",
        "CLOUD_ID = \"http://AnkarDev-Elasticsearch-1891076460.eu-west-2.elb.amazonaws.com:9200\"\n",
        "\n",
        "# Create the client instance\n",
        "client = Elasticsearch(\n",
        "    CLOUD_ID,\n",
        "    basic_auth=(\"eogbomo\", ELASTIC_PASSWORD),\n",
        "    verify_certs=False\n",
        ")"
      ],
      "metadata": {
        "id": "L8N-BJExLO6b"
      },
      "execution_count": 22,
      "outputs": []
    },
    {
      "cell_type": "markdown",
      "source": [
        "###Gradio App"
      ],
      "metadata": {
        "id": "RI26vOs9AFaG"
      }
    },
    {
      "cell_type": "code",
      "source": [
        "example_query1 = {\"size\": 1,\"sort\": [{\"publicationDate\": {\"order\": \"desc\"}}],\"query\": {\"bool\": {\"must\": [{\"match\": {\"applicants\": \"apple\"}}]}}}\n",
        "example_query2 = {\"size\": 1,\"sort\": [{\"publicationDate\": {\"order\": \"desc\"}}],\"query\": {\"bool\": {\"must\": [{\"match\": {\"applicants\": \"apple\"}}]}}}"
      ],
      "metadata": {
        "id": "J6Y_FRWeQ478"
      },
      "execution_count": 23,
      "outputs": []
    },
    {
      "cell_type": "code",
      "source": [
        "def loadprevresponses():\n",
        "  try:\n",
        "    with open ('responses.json', 'r+') as file:\n",
        "      try:\n",
        "        data = json.load(file)\n",
        "        datastr = list(data.values())\n",
        "        datastr = ', '.join(datastr)\n",
        "      except:\n",
        "        print('Error loading responses')\n",
        "        data = {}\n",
        "  except FileNotFoundError:\n",
        "    with open ('responses.json', 'w') as file:\n",
        "      data = {}\n",
        "      json.dump(data, file)\n",
        "  return data, datastr\n",
        "\n",
        "data, datastr = loadprevresponses()\n",
        "print(data, datastr)\n",
        "\n",
        "def saveresponse(input):\n",
        "  history, historystr = loadprevresponses()\n",
        "\n",
        "  history[f'Input{len(history)+1}'] = input\n",
        "  with open ('responses.json', 'r+') as file:\n",
        "    json.dump(history, file)\n"
      ],
      "metadata": {
        "id": "pxLEKRmTpClm",
        "outputId": "d4b58c71-a6bc-4d24-a836-d226010f36b8",
        "colab": {
          "base_uri": "https://localhost:8080/"
        }
      },
      "execution_count": 40,
      "outputs": [
        {
          "output_type": "stream",
          "name": "stdout",
          "text": [
            "{'Input1': 'Valeo patents related to cameras in vehicles', 'Input2': 'now look at patents of valeo related to lidar'} Valeo patents related to cameras in vehicles, now look at patents of valeo related to lidar\n"
          ]
        }
      ]
    },
    {
      "cell_type": "code",
      "source": [
        "def DrillDown(input):\n",
        "\n",
        "  history, historystr = loadprevresponses()\n",
        "  saveresponse(input)\n",
        "\n",
        "  input += historystr\n",
        "\n",
        "  prompt = \"\"\"You are an expert in translating natural language queries about patents into ElasticSearch Queries.\n",
        "    Given a user input, create an Elasticsearch query enabling the user to return as many relevant patents as possible when querying in Elastic\n",
        "\n",
        "    input: {input}\n",
        "\n",
        "    \"\"\".format(input=input)\n",
        "\n",
        "  additional_prompt=\"\"\"\n",
        "    Instructions:\n",
        "    1. Generate Elasticsearch queries based on the provided natural language queries.\n",
        "    2. Only use fields present in the mapping. If the user is asking about a field that is not in the mapping ignore it.\n",
        "    3. Ensure that the generated queries follow Elasticsearch's query DSL syntax and structure.\n",
        "    4. You can correct or reformulate the user's query if it has errors.\n",
        "    5. Return all fields in your response when applicable.\n",
        "    6. Make sure that the query only performs full text search when applicable i.e. don't use keyword search\n",
        "    7. When returning the json portion of the answer, compress the json output removing spaces. Remove any mention of json in the output or triple backtick sand make sure that it's valid.\n",
        "    8. Ensure that as many aspects of the user input are captired as possible\n",
        "    9. Also provide a short paragraph explaning why the ElasticSearch query was created as it was.\n",
        "\n",
        "    Examples of expected behavior:\n",
        "    Natural Language Query: \"What is the title of the most recent Apple patent\"\n",
        "    Expected Elasticsearch Query:\n",
        "    {\n",
        "      \"size\": 1,\n",
        "      \"sort\": [\n",
        "        {\n",
        "          \"publicationDate\": {\n",
        "            \"order\": \"desc\"\n",
        "          }\n",
        "        }\n",
        "      ],\n",
        "      \"query\": {\n",
        "        \"bool\": {\n",
        "          \"must\": [\n",
        "            {\n",
        "              \"match\": {\n",
        "                \"applicants\": \"apple\"\n",
        "              }\n",
        "            }\n",
        "          ]\n",
        "        }\n",
        "      }\n",
        "    }\n",
        "\n",
        "    Natural Language Query: \"What are the most recent methods to deal with cell group failure?\"\n",
        "    Expected Elasticsearch Query:\n",
        "    {\n",
        "      \"query\": {\n",
        "        \"bool\": {\n",
        "          \"must\": [\n",
        "            {\n",
        "              \"bool\": {\n",
        "                \"should\": [\n",
        "                  {\n",
        "                    \"match\": {\n",
        "                      \"patentTitle\": \"cell group failure\"\n",
        "                    }\n",
        "                  },\n",
        "                  {\n",
        "                    \"match\": {\n",
        "                      \"patentAbstract\": \"cell group failure\"\n",
        "                    }\n",
        "                  },\n",
        "                  {\n",
        "                    \"match\": {\n",
        "                      \"claims.claimText\": \"cell group failure\"\n",
        "                    }\n",
        "                  },\n",
        "                  {\n",
        "                    \"match\": {\n",
        "                      \"patentDescription\": \"cell group failure\"\n",
        "                    }\n",
        "                  }\n",
        "                ]\n",
        "              }\n",
        "            }\n",
        "          ],\n",
        "          \"filter\": [\n",
        "            {\n",
        "              \"range\": {\n",
        "                \"publicationDate\": {\n",
        "                  \"gte\": \"now-5y/d\"\n",
        "                }\n",
        "              }\n",
        "            }\n",
        "          ]\n",
        "        }\n",
        "      },\n",
        "      \"_source\": [\"*\"]\n",
        "    }\"\"\"\n",
        "  prompt += additional_prompt\n",
        "\n",
        "  completion = OpenAIclient.chat.completions.create(\n",
        "  model=\"gpt-4-0125-preview\",\n",
        "  messages=[\n",
        "  {\"role\": \"user\", \"content\": f'Your function is that of a bot optimised for summarising patent text. Answer the following query as accurately as possible based on your function {prompt}'}\n",
        "  ]\n",
        "  )\n",
        "  response = completion.choices[0].message.content\n",
        "\n",
        "  response = '\\n'.join([response, f\"{'#'*120} \\n\"])\n",
        "  response = '\\n'.join([response, f\"History USED TO GENERATE RESPONSE:\\n {history}\"])\n",
        "\n",
        "  return response\n",
        "\n",
        "inputs = gradio.Textbox(lines=7, label=\"Generate Queries for use with Elastic Search, allowing for search refinement\")\n",
        "outputs = gradio.Textbox(label=\"Reply\")\n",
        "\n",
        "gradio.Interface(fn=DrillDown, inputs=inputs, outputs=outputs, title=\"Patent DrillDown Prototype\",\n",
        "             theme=\"compact\").launch(share=True, debug=True)"
      ],
      "metadata": {
        "id": "UUiITGnU3I0W",
        "colab": {
          "base_uri": "https://localhost:8080/",
          "height": 715
        },
        "outputId": "5cde9752-16aa-4d9d-bd77-67e97d56b304"
      },
      "execution_count": 42,
      "outputs": [
        {
          "output_type": "stream",
          "name": "stderr",
          "text": [
            "/usr/local/lib/python3.10/dist-packages/gradio/blocks.py:580: UserWarning: Cannot load compact. Caught Exception: 404 Client Error: Not Found for url: https://huggingface.co/api/spaces/compact (Request ID: Root=1-65fae22d-1f057e767e5f7b000e92dbed;956d12e3-f045-4e2a-a818-6747bf36b0d1)\n",
            "\n",
            "Sorry, we can't find the page you are looking for.\n",
            "  warnings.warn(f\"Cannot load {theme}. Caught Exception: {str(e)}\")\n"
          ]
        },
        {
          "output_type": "stream",
          "name": "stdout",
          "text": [
            "Colab notebook detected. This cell will run indefinitely so that you can see errors and logs. To turn off, set debug=False in launch().\n",
            "Running on public URL: https://79ec37d62dc7f350e3.gradio.live\n",
            "\n",
            "This share link expires in 72 hours. For free permanent hosting and GPU upgrades, run `gradio deploy` from Terminal to deploy to Spaces (https://huggingface.co/spaces)\n"
          ]
        },
        {
          "output_type": "display_data",
          "data": {
            "text/plain": [
              "<IPython.core.display.HTML object>"
            ],
            "text/html": [
              "<div><iframe src=\"https://79ec37d62dc7f350e3.gradio.live\" width=\"100%\" height=\"500\" allow=\"autoplay; camera; microphone; clipboard-read; clipboard-write;\" frameborder=\"0\" allowfullscreen></iframe></div>"
            ]
          },
          "metadata": {}
        },
        {
          "output_type": "stream",
          "name": "stdout",
          "text": [
            "Keyboard interruption in main thread... closing server.\n",
            "Killing tunnel 127.0.0.1:7860 <> https://79ec37d62dc7f350e3.gradio.live\n"
          ]
        },
        {
          "output_type": "execute_result",
          "data": {
            "text/plain": []
          },
          "metadata": {},
          "execution_count": 42
        }
      ]
    },
    {
      "cell_type": "markdown",
      "source": [
        "### Get search response"
      ],
      "metadata": {
        "id": "9jaaJdkDmYOl"
      }
    },
    {
      "cell_type": "code",
      "source": [
        "query = {\n",
        "\"query\":{\n",
        "\"bool\":{\n",
        "\"must\":[\n",
        "{\n",
        "\"bool\":{\n",
        "\"should\":[\n",
        "{\n",
        "\"match\":{\n",
        "\"applicants\":\"valeo\"\n",
        "}\n",
        "},\n",
        "{\n",
        "\"match\":{\n",
        "\"patentTitle\":\"autonomous vehicles\"\n",
        "}\n",
        "},\n",
        "{\n",
        "\"match\":{\n",
        "\"patentAbstract\":\"autonomous vehicles\"\n",
        "}\n",
        "},\n",
        "{\n",
        "\"match\":{\n",
        "\"claims.claimText\":\"autonomous vehicles\"\n",
        "}\n",
        "},\n",
        "{\n",
        "\"match\":{\n",
        "\"patentDescription\":\"autonomous vehicles\"\n",
        "}\n",
        "},\n",
        "{\n",
        "\"match\":{\n",
        "\"patentTitle\":\"cameras\"\n",
        "}\n",
        "},\n",
        "{\n",
        "\"match\":{\n",
        "\"patentAbstract\":\"cameras\"\n",
        "}\n",
        "},\n",
        "{\n",
        "\"match\":{\n",
        "\"claims.claimText\":\"cameras\"\n",
        "}\n",
        "},\n",
        "{\n",
        "\"match\":{\n",
        "\"patentDescription\":\"cameras\"\n",
        "}\n",
        "},\n",
        "{\n",
        "\"match\":{\n",
        "\"patentTitle\":\"lidar\"\n",
        "}\n",
        "},\n",
        "{\n",
        "\"match\":{\n",
        "\"patentAbstract\":\"lidar\"\n",
        "}\n",
        "},\n",
        "{\n",
        "\"match\":{\n",
        "\"claims.claimText\":\"lidar\"\n",
        "}\n",
        "},\n",
        "{\n",
        "\"match\":{\n",
        "\"patentDescription\":\"lidar\"\n",
        "}\n",
        "}\n",
        "]\n",
        "}\n",
        "}\n",
        "]\n",
        "}\n",
        "},\n",
        "\"_source\":[\"*\"]\n",
        "}"
      ],
      "metadata": {
        "id": "otheqsp3mfc3"
      },
      "execution_count": 43,
      "outputs": []
    },
    {
      "cell_type": "code",
      "source": [
        "resp = client.search(index=\"patents\",\n",
        "                     body=query)\n",
        "\n",
        "print(resp['hits']['hits'][0])"
      ],
      "metadata": {
        "id": "Q8hePjn5NQ4E",
        "outputId": "b8f13781-a25d-4549-c6e4-d052bf3c7d8b",
        "colab": {
          "base_uri": "https://localhost:8080/"
        }
      },
      "execution_count": 44,
      "outputs": [
        {
          "output_type": "stream",
          "name": "stdout",
          "text": [
            "{'_index': 'patents_v0', '_id': 'EP_EP23178140A1', '_score': 21.813404, '_source': {'patentId': 'EP23178140A1', 'patentOffice': 'EP', 'patentNumber': '4296950', 'kindCode': 'A1', 'publicationDate': '20231227', 'applicationNumber': '23178140.2', 'applicationDate': '20230607', 'ipcrClassification': [{'section': 'G', 'ipcrClass': '06', 'ipcrSubClass': 'T', 'ipcrClassification': 'G06T'}], 'title': 'SYSTEM FOR INTRINSIC CALIBRATION OF CAMERAS', 'applicants': ['TuSimple, Inc.'], 'inventors': ['NING, Juexiao', 'DENG, Fuheng', 'GONG, Chenghao'], 'patentAbstract': 'One aim of autonomous vehicle (AV) technologies is to provide vehicles that can safely navigate towards a destination with limited or no driver assistance. An AV may include multiple cameras mounted on it for several purposes including security purposes, driving aid, or facilitating autonomous driving. Systems, apparatus, and methods are provided to calibrate intrinsic parameters of AV cameras. AV cameras and calibration targets are moved in a systematic, predictable, and repeatable manner for calibration of camera intrinsic parameters.', 'patentDescription': [{'heading': 'TECHNICAL FIELD', 'paragraphs': [{'paragraphId': 'p0001', 'paragraphText': 'The present disclosure relates generally to autonomous vehicles. More particularly, the present disclosure is related to a system for intrinsic calibration of cameras in autonomous vehicles.'}]}, {'heading': 'BACKGROUND', 'paragraphs': [{'paragraphId': 'p0002', 'paragraphText': 'One aim of autonomous vehicle technologies is to provide vehicles that can safely navigate towards a destination with limited or no driver assistance. The safe navigation of an autonomous vehicle (AV) from one point to another may include the ability to signal other vehicles, navigating around other vehicles in shoulders or emergency lanes, changing lanes, biasing appropriately in a lane, and navigate all portions or types of highway lanes. Autonomous vehicle technologies may enable an AV to operate without requiring extensive learning or training by surrounding drivers, by ensuring that the AV can operate safely, in a way that is evident, logical, or familiar to surrounding drivers and pedestrians.'}, {'paragraphId': 'p0003', 'paragraphText': 'An AV may include multiple cameras mounted on it for several purposes including security purposes, driving aid, or facilitating autonomous driving. Cameras mounted on an AV can obtain images from surrounding areas of the AV. These images can be processed to obtain information about the road or the objects surrounding the AV, which can be further used to safely maneuver the AV through traffic or on a highway.'}, {'paragraphId': 'p0004', 'paragraphText': 'Images obtained by the cameras mounted on an AV, however, may often be distorted due to inaccuracies in camera intrinsic parameters. Examples of camera intrinsic parameter inaccuracies include focal length inaccuracies, lens center misalignment, imperfect lens shape causing image radial distortion, and/or other camera intrinsic parameter inaccuracies. Thus, an intrinsic calibration is needed to correct the inaccuracies in the intrinsic parameters of the cameras before the cameras are used in AVs. Conventional intrinsic calibration technique consists of mounting cameras on the AV and placing calibration boards around the AV, each board at a different angle. The AVs in conventional calibration systems are placed on rotating platforms in order to capture images of calibration boards at different angles. This approach is time-consuming and expensive. Therefore, prior art solutions for intrinsic camera calibration for AVs are not entirely satisfactory.'}]}, {'heading': 'SUMMARY', 'paragraphs': [{'paragraphId': 'p0005', 'paragraphText': 'Images obtained by AV cameras may often be distorted due to inaccuracies in the intrinsic parameters of the cameras. Systems, apparatus, and methods are provided to calibrate intrinsic parameters of multiple cameras in an AV simultaneously before the cameras are mounted on the AV. A calibration target and a camera holding jig are moved in a systematic, predictable, and repeatable manner for intrinsic camera calibration.'}, {'paragraphId': 'p0006', 'paragraphText': 'In an example embodiment, intrinsic parameter calibration for one or more cameras using one or more calibration targets is performed before the one or more cameras are mounted on an AV. The one or more cameras may be mounted on a camera holding jig mounted on a support frame. The support frame may comprise horizontal and vertical rails used to hold the camera holding jig and facilitate movements of the camera holding jig. In one example, the camera holding jig and the support frame are connected to a processing unit used to control movements of the camera holding jig and the support frame. The support frame may be a linear guide, a linear actuator, a rotary actuator support, and/or any other types of support frames. In some embodiments, the processing unit is configured to send a moving command signal to the camera holding jig such that the camera holding jig moves along a horizontal rail or a vertical rail for a predetermined distance towards a predetermined direction. The camera holding jig may comprise a set of roller bearings configured to reduce coefficient of friction during its movement.'}, {'paragraphId': 'p0007', 'paragraphText': 'In another embodiment, a total number of desired calibration target images is predetermined for camera intrinsic parameter calibration. In one example, each of the desired calibration target images corresponds to a desired distance from a camera and a desired angle of the calibration target. The camera holding jig and the one or more calibration targets are then moved for a predetermined number of steps, wherein in each step, the camera captures images of the one or more calibration targets corresponding to the desired distances and the desired angels.'}, {'paragraphId': 'p0008', 'paragraphText': \"In yet another embodiment, intrinsic camera calibration is performed at the processing unit using the captured calibration target images and a reference calibration target image. In one example, intrinsic camera calibration is performed by first identifying a set of calibration control points on the captured calibration target images. The set of calibration control points may be detected using a corner detection operator, an iterative subpixel localization method with a gradient-based search, a maximally stable extremal region method combined with an ellipse fitting method and a nearest neighbors' method. The detected set of calibration control points may be then used to estimate camera intrinsic parameters using an iterative refinement approach by undistorting the captured calibration target images to a canonical image pattern and re-estimating the camera intrinsic parameters in each iteration until convergence is reached.\"}]}, {'heading': 'BRIEF DESCRIPTION OF THE DRAWINGS', 'paragraphs': [{'paragraphId': 'p0009', 'paragraphText': 'For a more complete understanding of this disclosure, reference is now made to the following brief description, taken in connection with the accompanying drawings and detailed description, wherein like reference numerals represent like parts. FIG. 1 illustrates a schematic diagram of a system including an autonomous vehicle. FIG. 2 shows a flow diagram for operation of an autonomous vehicle (AV) safely in light of the health and surroundings of the AV. FIG. 3 illustrates an AV intrinsic camera calibration system, in accordance with an exemplary embodiment of the present disclosure. FIG. 4A-C illustrate various exemplary calibration targets with different calibration patterns used for AV intrinsic camera calibration, in accordance with the present disclosure. FIG. 5A-E illustrate various views of an intrinsic camera calibration system, in accordance with the present disclosure. FIG. 6A-E illustrate various views of a camera holding jig and a support frame, in accordance with the present disclosure. FIG. 7 illustrates an example method for calibrating camera intrinsic parameters in an AV, according to an embodiment of the present disclosure. FIG. 8 illustrates another example method for calibrating camera intrinsic parameters in an AV, according to an embodiment of the present disclosure. FIG. 9 illustrates a simplified computer system that can be used to implement various embodiments described and illustrated in the present disclosure.'}]}, {'heading': 'DETAILED DESCRIPTION', 'paragraphs': [{'paragraphId': 'p0010', 'paragraphText': 'The example headings for the various sections below are used to facilitate the understanding of the disclosed subject matter and do not limit the scope of the claimed subject matter in any way. Accordingly, one or more features of one example section can be combined with one or more features of another example section.'}, {'paragraphId': 'p0011', 'paragraphText': 'FIG. 1 shows a system 100 that includes an autonomous vehicle 105. An autonomous vehicle may be referred to as a ground vehicle capable of sensing its environment and moving safely with little or no human input. Examples of autonomous vehicles include semi-automated vehicles, autonomous tractor-trailers, autonomous 18 wheelers, autonomous lorries, autonomous class 8 vehicles, autonomous passenger vehicles, autonomous transport vans, autonomous cargo vans, autonomous recreational vehicles, autonomous golf carts, autonomous transport carts, and/or any other types of autonomous vehicles. The autonomous vehicle 105 includes a plurality of vehicle subsystems 140 and an in-vehicle control computer 150. The plurality of vehicle subsystems 140 includes vehicle drive subsystems 142, vehicle sensor subsystems 144, and vehicle control subsystems 146. An engine or motor, wheels and tires, a transmission, an electrical subsystem, and a power subsystem may be included in the vehicle drive subsystems. The engine of the autonomous truck may be an internal combustion engine, a fuel-cell powered electric engine, a battery powered electrical engine, a hybrid engine, or any other type of engine capable of moving the wheels on which the autonomous vehicle 105 moves. The autonomous vehicle 105 may have multiple motors or actuators to drive the wheels of the vehicle, such that the vehicle drive subsystems 142 include two or more electrically driven motors. The transmission may include a continuous variable transmission or a set number of gears that translate the power created by the engine into a force that drives the wheels of the vehicle. The vehicle drive subsystems may include an electrical system that monitors and controls the distribution of electrical current to components within the system, including pumps, fans, and actuators. The power subsystem of the vehicle drive subsystem may include components that regulate the power source of the vehicle.'}, {'paragraphId': 'p0012', 'paragraphText': 'Vehicle sensor subsystems 144 can include sensors for general operation of the autonomous vehicle 105, including those which would indicate a malfunction in the AV or another cause for an AV to perform a limited or minimal risk condition (MRC) maneuver. The sensors for general operation of the autonomous vehicle may include cameras, a temperature sensor, an inertial sensor (IMU), a global positioning system, a light sensor, a LIDAR system, a radar system, and wireless communications.'}, {'paragraphId': 'p0013', 'paragraphText': 'A sound detection array, such as a microphone or array of microphones, may be included in the vehicle sensor subsystem 144. The microphones of the sound detection array are configured to receive audio indications of the presence of, or instructions from, authorities, including sirens and command such as \"Pull over.\" These microphones are mounted, or located, on the external portion of the vehicle, specifically on the outside of the tractor portion of an autonomous vehicle 105. Microphones used may be any suitable type, mounted such that they are effective both when the autonomous vehicle 105 is at rest, as well as when it is moving at normal driving speeds.'}, {'paragraphId': 'p0014', 'paragraphText': 'Cameras included in the vehicle sensor subsystems 144 may be rear-facing so that flashing lights from emergency vehicles may be observed from all around the autonomous vehicle 105. These cameras may include video cameras, cameras with filters for specific wavelengths, as well as any other cameras suitable to detect emergency vehicle lights based on color, flashing, of both color and flashing.'}, {'paragraphId': 'p0015', 'paragraphText': 'The vehicle control subsystem 146 may be configured to control operation of the autonomous vehicle 105 and its components. Accordingly, the vehicle control subsystem 146 may include various elements such as an engine power output subsystem, a brake unit, a navigation unit, a steering system, and an autonomous control unit. The engine power output may control the operation of the engine, including the torque produced or horsepower provided, as well as provide control of the gear selection of the transmission. The brake unit can include any combination of mechanisms configured to decelerate the autonomous vehicle 105. The brake unit can use friction to slow the wheels in a standard manner. The brake unit may include an Anti-lock brake system (ABS) that can prevent the brakes from locking up when the brakes are applied. The navigation unit may be any system configured to determine a driving path or route for the autonomous vehicle 105. The navigation unit may additionally be configured to update the driving path dynamically while the autonomous vehicle 105 is in operation. In some embodiments, the navigation unit may be configured to incorporate data from the GPS device and one or more predetermined maps so as to determine the driving path for the autonomous vehicle 105. The steering system may represent any combination of mechanisms that may be operable to adjust the heading of the autonomous vehicle 105 in an autonomous mode or in a driver-controlled mode.'}, {'paragraphId': 'p0016', 'paragraphText': 'The autonomous control unit may represent a control system configured to identify, evaluate, and avoid or otherwise negotiate potential obstacles in the environment of the autonomous vehicle 105. In general, the autonomous control unit may be configured to control the autonomous vehicle 105 for operation without a driver or to provide driver assistance in controlling the autonomous vehicle 105. In some embodiments, the autonomous control unit may be configured to incorporate data from the GPS device, the RADAR, the LiDAR (i.e. LIDAR), the cameras, and/or other vehicle subsystems to determine the driving path or trajectory for the autonomous vehicle 105. The autonomous control that may activate systems that the autonomous vehicle 105 has which are not present in a conventional vehicle, including those systems which can allow an autonomous vehicle to communicate with surrounding drivers or signal surrounding vehicles or drivers for safe operation of the autonomous vehicle.'}, {'paragraphId': 'p0017', 'paragraphText': \"An in-vehicle control computer 150, which may be referred to as a VCU, includes a vehicle subsystem interface 160, a driving operation module 168, one or more processors 170, a compliance module 166, a memory 175, and a network communications subsystem 178. This in-vehicle control computer 150 controls many, if not all, of the operations of the autonomous vehicle 105 in response to information from the various vehicle subsystems 140. The one or more processors 170 execute the operations that allow the system to determine the health of the autonomous vehicle, such as whether the autonomous vehicle has a malfunction or has encountered a situation requiring service or a deviation from normal operation and giving instructions. Data from the vehicle sensor subsystems 144 is provided to VCU 150 so that the determination of the status of the autonomous vehicle can be made. The compliance module 166 determines what action should be taken by the autonomous vehicle 105 to operate according to the applicable (i.e. local) regulations. Data from other vehicle sensor subsystems 144 may be provided to the compliance module 166 so that the best course of action in light of the AV's status may be appropriately determined and performed. Alternatively, or additionally, the compliance module 166 may determine the course of action in conjunction with another operational or control module, such as the driving operation module 168.\"}, {'paragraphId': 'p0018', 'paragraphText': 'The memory 175 may contain additional instructions as well, including instructions to transmit data to, receive data from, interact with, or control one or more of the vehicle drive subsystem 142, the vehicle sensor subsystem 144, and the vehicle control subsystem 146 including the autonomous Control system. The in-vehicle control computer (VCU) 150 may control the function of the autonomous vehicle 105 based on inputs received from various vehicle subsystems (e.g., the vehicle drive subsystem 142, the vehicle sensor subsystem 144, and the vehicle control subsystem 146). Additionally, the VCU 150 may send information to the vehicle control subsystems 146 to direct the trajectory, velocity, signaling behaviors, and the like, of the autonomous vehicle 105. The autonomous control vehicle control subsystem may receive a course of action to be taken from the compliance module 166 of the VCU 150 and consequently relay instructions to other subsystems to execute the course of action.'}, {'paragraphId': 'p0019', 'paragraphText': 'FIG. 2 shows a flow diagram for operation of an autonomous vehicle (AV) safely in light of the health and surroundings of the AV. Although this figure depicts functional steps in a particular order for purposes of illustration, the process is not limited to any particular order or arrangement of steps. One skilled in the relevant art will appreciate that the various steps portrayed in this figure could be omitted, rearranged, combined and/or adapted in various ways.'}, {'paragraphId': 'p0020', 'paragraphText': \"As shown in FIG. 2, the vehicle sensor subsystem 144 receives visual, auditory, or both visual and auditory signals indicating the at the environmental condition of the AV, as well as vehicle health or sensor activity data are received in step 205. These visual and/or auditory signal data are transmitted from the vehicle sensor subsystem 144 to the in-vehicle control computer system (VCU) 150, as in step 210. Any of the driving operation module and the compliance module receive the data transmitted from the vehicle sensor subsystem, in step 215. Then, one or both of those modules determine whether the current status of the AV can allow it to proceed in the usual manner or that the AV needs to alter its course to prevent damage or injury or to allow for service in step 220. The information indicating that a change to the course of the AV is needed may include an indicator of sensor malfunction; an indicator of a malfunction in the engine, brakes, or other components necessary for the operation of the autonomous vehicle; a determination of a visual instruction from authorities such as flares, cones, or signage; a determination of authority personnel present on the roadway; a determination of a law enforcement vehicle on the roadway approaching the autonomous vehicle, including from which direction; and a determination of a law enforcement or first responder vehicle moving away from or on a separate roadway from the autonomous vehicle. This information indicating that a change to the AV's course of action is needed may be used by the compliance module to formulate a new course of action to be taken which accounts for the AV's health and surroundings, in step 225. The course of action to be taken may include slowing, stopping, moving into a shoulder, changing route, changing lane while staying on the same general route, and the like. The course of action to be taken may include initiating communications with any oversight or human interaction systems present on the autonomous vehicle. The course of action to be taken may then be transmitted from the VCU 150 to the autonomous control system, in step 230. The vehicle control subsystems 146 then cause the autonomous vehicle 105 to operate in accordance with the course of action to be taken that was received from the VCU 150 in step 235.\"}, {'paragraphId': 'p0021', 'paragraphText': 'It should be understood that the specific order or hierarchy of steps in the processes disclosed herein is an example of exemplary approaches. Based upon design preferences, it is understood that the specific order or hierarchy of steps in the processes may be rearranged while remaining within the scope of the present disclosure. The accompanying method claims present elements of the various steps in a sample order, and are not meant to be limited to the specific order or hierarchy presented.'}]}, {'heading': 'Intrinsic Camera Calibration System', 'paragraphs': [{'paragraphId': 'p0022', 'paragraphText': 'FIG. 3 illustrates an AV intrinsic camera calibration system 300, in accordance with an exemplary embodiment of the present disclosure. The AV intrinsic camera calibration system 300 may include a support frame 302, a camera holding jig 304, one or more cameras 306a-n mounted on the camera holding jig 304, one or more calibration targets 308a-n mounted on one or more target support devices 312a-n, and a processing unit 310. The processing unit 310 may be operatively connected to the camera holding jig 304, the one or more cameras 306a-n, and the one or more target support devices 312a-n for controlling and processing calibration of one or more intrinsic parameters in the one or more cameras 306a-n. Communication between the processing unit 310 and the camera holding jig 304, the one or more cameras 306a-n, and the one or more target support devices 312a-n may be performed by wired or wireless communication channels.'}, {'paragraphId': 'p0023', 'paragraphText': \"The support frame 302 may be referred to as a support device used to carry loads and ensure stable motion. Examples of a support frame 302 include linear guide support, linear actuator support, rotary actuator support, and/or any other types of support frames. In some embodiment, the support frame 302 comprises one or more horizontal rails 302a-n and one or more vertical rails 302a'-n' for supporting and guiding movements of the camera holding jig 304. In one example, the processing unit 310 is configured to send a moving command signal to the camera holding jig 304 such that the camera holding jig 304 moves along the one or more horizontal rails 302a-n or the one or more vertical rails 302a'-n' for a predetermined distance towards a predetermined direction. In another example, the camera holding jig 304 is configured to slide over the one or more horizontal rails 302a-n or the one or more vertical rails 302a'-n' with the aid of a lubricant. In yet another example, the camera holding jig 304 comprises a set of roller bearings configured to reduce the coefficient of friction between the camera holding jig 304 and the one or more horizontal rails 302a-n or the one or more vertical rails 302a'-n'. In this way, a force required to move the camera holding jig 304 can be reduced. In still another example, the one or more horizontal rails 302a-n and the one or more vertical rails 302a'-n' comprise a set of grooves for the set of roller bearings to move along either on the outside or on the inside of the one or more horizontal rails 302a-n and the one or more vertical rails 302a'-n'.\"}, {'paragraphId': 'p0024', 'paragraphText': \"The camera holding jig 304 may be referred to as a device configured to hold one or more cameras to control the location and/or motion of the cameras. In one example, the camera holding jig 304 comprises a set of camera holders, each of which is configured to hold one camera. In another example, the camera holding jig 304 is configured to receive/obtain a moving command signal from the processing unit 310 such that the camera holding jig 304 moves along the one or more horizontal rails 302a-n or the one or more vertical rails 302a'-n' according to a camera calibration scheme.\"}, {'paragraphId': 'p0025', 'paragraphText': 'The one or more calibration targets 308a-n may be referred to as a board comprising one or more predetermined calibration image patterns used to calibrate cameras. FIG. 4A-C illustrate various exemplary calibration targets with different calibration patterns used for AV intrinsic camera calibration. FIG. 4A illustrates an example of a calibration target 400A according to an embodiment of the present disclosure. As can be seen, the calibration target 400A comprises a substrate 402A with a checkerboard pattern 404A printed, stamped, engraved, imprinted, or otherwise marked thereon. The substrate 402A may be paper, cardboard, plastic, metal, foam, or some combination thereof. The substrate 402A may in some cases include a translucent or transparent surface upon which the checkerboard pattern 404A is printed, and which a light source may provide illumination through. The substrate 402A may in some cases include a retroreflective surface upon which the checkerboard pattern 404A is printed. The retroreflective property of the surface may be inherent to the material of the substrate 402A or may be a separate layer applied to the surface of the substrate 402A, for example by adhering a retroreflective material to the substrate 402A or by painting (e.g., via a brush, roller, or aerosol spray) the substrate 402A with a retroreflective paint.'}, {'paragraphId': 'p0026', 'paragraphText': \"The calibration target 400A is useful for calibration of cameras in an AV, or other sensors that capture visual data. In particular, the one or more cameras 306a-n with a pattern/image/feature recognition system running on the processing unit 310 can identify points representing vertices between the dark (black) and light (white) checkers on the checkerboard pattern 404A. By drawing lines connecting these points, the one or more cameras 306a-n and the processing unit 310 can generate a grid. In some embodiments, the one or more cameras 306a-n have a wide-angle lens, such as a fisheye lens or a barrel lens. As a result, the resulting grid becomes warped so that some checkers will appear curved rather than straight, and so that checkers near the edges of the one or more cameras 306a-n's point of view will appear more squashed, while checkers near the center of the one or more cameras 306a-n's point of view will appear larger and more even. On the other hand, a rectilinear lens provides an opposite effect.\"}, {'paragraphId': 'p0027', 'paragraphText': 'In some embodiments, the processing unit 310 is configured to identify distortions of camera lens in the one or more cameras 306a-n and counteract the distortions based on a comparison between a reference checkerboard pattern and a captured checkerboard pattern by the one or more cameras 306a-n. The one or more cameras 306a-n and the processing unit 310 may be configured to identify other parameters of the one or more cameras 306a-n in similar fashion, such as any lens color to be filtered out, any crack or defect in the lens to be filtered out, or a combination thereof.'}, {'paragraphId': 'p0028', 'paragraphText': 'The calibration target 400A may also be configured to calibrate other types of sensors used in an AV, such as LIDAR, ultrasonic sensors, or radar sensors, given that the shape of the substrate 402A can be detected by these sensors. For example, flat planar vision targets such as the calibration target 400A can be detected by LIDAR by relying on planar geometry estimates and using the returned intensity. While FIG. 4A illustrates a square or rectangular substrate 402A, the substrate 402A may be circular, semicircular, ellipsoidal, triangular, quadrilateral, (trapezoid, parallelogram), pentagonal, hexagonal, heptagonal, octagonal, nonagonal, decagonal, otherwise polygonal, or some combination thereof.'}, {'paragraphId': 'p0029', 'paragraphText': 'FIG. 4B illustrates an example of a calibration target 400B according to an embodiment of the present disclosure. As can be seen, the calibration target 400B comprises a substrate 402B with an ArUco (Augmented Reality University of Cordoba) pattern 404B printed, stamped, engraved, imprinted, or otherwise marked thereon. The ArUco pattern 404B may be referred to as a synthetic square marker pattern composed by a wide black border and an inner binary matrix which determines its identifier. For example, each square in the inner binary matrix in FIG. 4B is dark/black or light/white used to determine the identifier of the ArUco pattern 404B. The black border may be used to facilitate fast detection of the ArUco pattern 404B, and the binary codification may be used to identify the ArUco pattern 404B and apply error detection and correction techniques.'}, {'paragraphId': 'p0030', 'paragraphText': 'By detecting the pattern in the ArUco pattern 404B, the one or more cameras 306a-n and the processing unit 310 may identify a grid, similarly to the checkerboard pattern 404A, though potentially with fewer points, as some areas of the ArUco pattern 404B may include contiguous dark/black squares or contiguous light/white squares. By identifying the grid from the calibration target 400B captured by the one or more cameras 306a-n (e.g. with lens distortion such as parabolic distortion), and comparing it to a known reference image of the ArUco pattern (e.g. without any distortion), any distortions or other differences may be identified, and appropriate corrections may be applied to counteract these distortions or other differences. Please reference FIG. 4A and its associated texts for structure and functions of other components included in this example.'}, {'paragraphId': 'p0031', 'paragraphText': 'FIG. 4C illustrates an example of a calibration target 400C according to an embodiment of the present disclosure. As can be seen, the calibration target 400C comprises a substrate 402C with a ring pattern 404C printed, stamped, engraved, imprinted, or otherwise marked thereon. The ring pattern 404C may include a set of dark/black ring shapes on a white background.'}, {'paragraphId': 'p0032', 'paragraphText': 'The one or more cameras 306a-n and the processing unit 310 may be configured to identify ring patterns from the calibration target 400C captured by the one or more cameras 306a-n (e.g. with lens distortion such as parabolic distortion), and comparing the identified ring patterns to a known reference image of the ring patterns (e.g. without any distortion). Based on the comparison, any distortions or other differences may be identified, and appropriate corrections may be applied to counteract these distortions or other differences. Please reference FIG. 4A and its associated texts for structure and functions of other components included in this example.'}, {'paragraphId': 'p0033', 'paragraphText': 'While the only patterns 404A-C discussed with respect to calibration target 400 are checkerboard pattern 404A, ArUco pattern 404B, and ring pattern 404C, other patterns that are not depicted can additionally or alternatively be used. For example, bar codes or quick response (QR) codes may be used as patterns that can be recognized using the one or more cameras 306an and the processing unit 310 during camera calibration.'}, {'paragraphId': 'p0034', 'paragraphText': 'Referring back to FIG. 3, the one or more target support devices 310a-n may be operatively connected to the processing unit 310 to receive/obtain a calibration target moving command to move the one or more calibration targets 308a-n for a predetermined distance towards a predetermined direction. The one or more target support devices 310a-n may be referred to as a device configured to hold the one or more calibration targets 308a-n and move the one or more calibration targets 308a-n to a desired distance at a desired angle based on a control signal. In some embodiments, the one or more target support devices 310a-n are electric carts with target holders and one or more wheels. In one example, the processing unit 310 sends a calibration target moving command signal (for example moving towards a north direction for 3 feet) to the one or more target support devices 31 0a-n. Upon receiving the calibration target moving command signal, one or more motors in the one or more target support devices 310a-n may be configured to create desired movements of the one or more target support devices 310an. In another example, the one or more target support devices 31 0a-n are moved manually towards a desired direction for a desired distance.'}, {'paragraphId': 'p0035', 'paragraphText': 'A processing unit 310 may be referred to an electronic circuitry configured to execute computer instructions to perform one or more specific tasks. Examples of a processing unit 310 include central processing unit, application-specific integrated circuit, and/or any other types of processing unit. In some embodiments, the processing unit 310 is configured to perform an intrinsic camera calibration process by sending moving command signals to the one or more target support devices 312a-n and the camera holding jig 302, receiving captured images from the one or more cameras 306a-n, and processing calibration algorithms.'}, {'paragraphId': 'p0036', 'paragraphText': 'FIG. 5A-E illustrate various views of an intrinsic camera calibration system, according to some embodiments of the present disclosure. FIG. 5A illustrates a rear perspective view of an intrinsic camera calibration system 500A, according to an embodiment of the present disclosure. As shown, an operator 518A may control a processing unit 510A installed in a processing station 514A to move a camera holding jig 504A mounted on a support frame 502A. The camera holding jig 504A may be configured to hold one or more cameras used for intrinsic camera calibration. A calibration target 508A may be mounted on a target support device 512A with a set of wheels and a target holder for controlling movements of the calibration target 508A. In one example, the target support device 512A comprises a transceiver 516A to receive/obtain a moving command signal from the processing unit 510A such that the target support device 512A moves towards a predetermined direction for a predetermined distance. In another example, the operator 518A may manually move the target support device 512A based on a camera calibration flow.'}, {'paragraphId': 'p0037', 'paragraphText': 'In some embodiments, the processing unit 510A sends a moving command signal to the camera holding jig 504A such that the camera holding jig 504A moves along either a horizontal rail or a vertical rail of the support frame 502A towards a predetermined direction for a predetermined distance. In one example, the processing unit 510A sends a moving command signal to the camera holding jig 504A according to a specific camera calibration flow. In another example, the camera holding jig 504A starts to move along a horizontal rail of the support frame 502A upon receiving a moving signal from the processing unit 510A. When the camera holding jig 504A reaches an end of the horizontal rail of the support frame 502A, the camera holding jig 504A may be configured to start moving along a vertical rail of the support frame 502A, wherein the vertical rail is attached to the horizontal rail. In still another example, the camera holding jig 504A starts to move along a vertical rail of the support frame 502A upon receiving a moving signal from the processing unit 510A. When the camera holding jig 504A reaches an end of the vertical rail of the support frame 502A, the camera holding jig 504A may be configured to start moving along a horizontal rail of the support frame 502A, wherein the horizontal rail is attached to the vertical rail.'}, {'paragraphId': 'p0038', 'paragraphText': 'FIG. 5B illustrates a front perspective view of an intrinsic camera calibration system 500B, according to an embodiment of the present disclosure. As shown, an operator 518B may control a processing unit 510B installed in a processing station 514B to move a camera holding jig 504B mounted on a support frame 502B. The camera holding jig 504B may be configured to hold one or more cameras used for intrinsic camera calibration. A calibration target 508B may be mounted on a target support device 512B with a set of wheels and a calibration target holder for controlling movements of the calibration target 508B. The target support device 512B may comprise a transceiver 516B to receive/obtain a moving command signal from the processing unit 510B. Please reference FIG. 5A and its associated texts for structure and functions of other components included in this example.'}, {'paragraphId': 'p0039', 'paragraphText': 'FIG. 5C illustrates a top perspective view of an intrinsic camera calibration system 500C, according to an embodiment of the present disclosure. As shown, an operator 518C may control a processing unit 510C installed on a processing station 514C to move a camera holding jig 504C mounted on a support frame 502C. The camera holding jig 504C may be configured to hold one or more cameras used for intrinsic camera calibration. A calibration target 508C may be mounted on a target support device 512C with a set of wheels and a calibration target holder for controlling movements of the calibration target 508C. The target support device 512C may comprise a transceiver 516C to receive/obtain a moving command signal from the processing unit 510C. Please reference FIG. 5A and its associated texts for structure and functions of other components included in this example.'}, {'paragraphId': 'p0040', 'paragraphText': 'FIG. 5D illustrates a bottom perspective view of an intrinsic camera calibration system 500D, according to an embodiment of the present disclosure. As shown, an operator 518D may control a processing unit 510D installed on a processing station 514D to move a camera holding jig 504D mounted on a support frame 502D. The camera holding jig 504D may be configured to hold one or more cameras used for intrinsic camera calibration. A calibration target 508D may be mounted on a target support device 512D with a set of wheels and a calibration target holder for controlling movements of the calibration target 508D. The target support device 512D may comprise a transceiver 516D to receive/obtain a moving command signal from the processing unit 510D. Please reference FIG. 5A and its associated texts for structure and functions of other components included in this example.'}, {'paragraphId': 'p0041', 'paragraphText': 'FIG. 5E illustrates a side perspective view of an intrinsic camera calibration system 500E, according to an embodiment of the present disclosure. As shown, an operator 518E may control a processing unit 510E installed on a processing station 514E to move a camera holding jig 504E mounted on a support frame 502E. The camera holding jig 504E may be configured to hold one or more cameras used for intrinsic camera calibration. A calibration target 508E may be mounted on a target support device 512E with a set of wheels and a calibration target holder for controlling movements of the calibration target 508E. The target support device 512E may comprise a transceiver 516E to receive/obtain a moving command signal from the processing unit 510E. Please reference FIG. 5A and its associated texts for structure and functions of other components included in this example.'}, {'paragraphId': 'p0042', 'paragraphText': 'FIG. 6A illustrates an example of a perspective view of a camera holding jig 604A mounted on a support frame 602A, according to an embodiment of the present disclosure. As shown, in this example, the support frame 602A is a linear guide support frame that allows the camera holding jig 604A to move either vertically along a vertical rail 602A-1, or horizontally along a horizontal rail 602A-2. In one example, the camera holding jig 604A is configured to slide over the vertical rail 602A-1 or the horizontal rail 602A-2 with the aid of a lubricant. In another example, the vertical rail 602A-1 and the horizontal rail 602A-2 comprise a set of grooves 608A-1 to 608A-n used to hold the camera holding jig 604A and facilitate movements of the camera holding jig 604A.'}, {'paragraphId': 'p0043', 'paragraphText': 'In some embodiments, the camera holding jig 604A is configured to hold a set of cameras 606A-1 to 606A-n for calibration. The camera holding jig 604A may be configured to receive/obtain a moving command signal from a processing unit (not shown) such that the camera holding jig 604A moves along either the vertical rail 602A-1 or the horizontal rail 602A-2 according to a camera calibration scheme.'}, {'paragraphId': 'p0044', 'paragraphText': 'FIG. 6B illustrates another exemplary perspective view of a camera holding jig 604B mounted on a support frame 602B, according to an embodiment of the present disclosure. As shown, in this example, the support frame 602B is a linear guide support frame that allows the camera holding jig 604B to move either vertically along a vertical rail 602B-1, or horizontally along a horizontal rail 602B-2. In some embodiments, the vertical rail 602B-1 and the horizontal rail 602B-2 comprise a set of grooves 608B-1 to 608B-n used to hold the camera holding jig 604B and facilitate movements of the camera holding jig 604B. The camera holding jig 604B may be configured to hold a set of cameras 606B-1 to 606B-n for calibration. In one example, the camera holding jig 604B is coupled to the horizontal rail 602B-2 and is configured to move along the horizontal rail 602B-2. When the camera holding jig 604B arrives at an intersection between the horizontal rail 602B-2 and the vertical rail 602B-1, the camera holding jig 604B may be decoupled from the horizontal rail 602B-2 and coupled to the vertical rail 602B-1 such that the camera holding jig 604B can now move along the vertical rail 602B-1. Please reference FIG. 6A and its associated texts for structure and functions of other components included in this example.'}, {'paragraphId': 'p0045', 'paragraphText': 'FIG. 6C illustrates still another example of a perspective view of a camera holding jig 604C mounted on a support frame 602C, according to an embodiment of the present disclosure. As shown, in this example, the support frame 602C is a linear guide support frame that allows the camera holding jig 604C to move either vertically along a vertical rail 602C-1, or horizontally along a horizontal rail 602C-2. In some embodiments, the vertical rail 602C-1 and the horizontal rail 602C-2 comprise a set of grooves 608C-1 to 608C-n used to hold the camera holding jig 604C and facilitate movements of the camera holding jig 604C. The camera holding jig 604C may be configured to hold a set of cameras 606C-1 to 606C-n for calibration. Please reference FIG. 6A and its associated texts for structure and functions of other components included in this example.'}, {'paragraphId': 'p0046', 'paragraphText': 'FIG. 6D illustrates still another exemplary perspective view of a camera holding jig 604D mounted on a support frame 602D, according to an embodiment of the present disclosure. As shown, in this example, the support frame 602D is a linear guide support frame that allows the camera holding jig 604D to move either vertically along a vertical rail 602D-1, or horizontally along a horizontal rail 602D-2. In some embodiments, the vertical rail 602D-1 and the horizontal rail 602D-2 comprise a set of grooves 608D-1 to 608D-n used to hold the camera holding jig 604D and facilitate movements of the camera holding jig 604D. The camera holding jig 604D may be configured to hold a set of cameras 606D-1 to 606D-n for calibration. Please reference FIG. 6A and its associated texts for structure and functions of other components included in this example.'}, {'paragraphId': 'p0047', 'paragraphText': 'FIG. 6E illustrates still another exemplary perspective view of a camera holding jig 604E mounted on a support frame 602E, according to an embodiment of the present disclosure. As shown, in this example, the support frame 602E is a linear guide support frame that allows the camera holding jig 604E to move either vertically along a vertical rail 602E-1, or horizontally along a horizontal rail 602E-2. In some embodiments, the vertical rail 602E-1 and the horizontal rail 602E-2 comprise a set of grooves 608E-1 to 608E-n used to hold the camera holding jig 604E and facilitate movements of the camera holding jig 604E. The camera holding jig 604E may be configured to hold a set of cameras 606E-1 to 606E-n for calibration. Please reference FIG. 6A and its associated texts for structure and functions of other components included in this example.'}, {'paragraphId': 'p0048', 'paragraphText': 'FIG. 7 illustrates an example method 700 for calibrating camera intrinsic parameters in an AV, according to an embodiment of the present disclosure. The operations of method 700 presented below are intended to be illustrative. In some embodiments, method 700 may be accomplished with one or more additional operations not described and/or without one or more of the operations discussed. Additionally, the order in which the operations of method 700 are illustrated in FIG. 7 and described below is not intended to be limiting.'}, {'paragraphId': 'p0049', 'paragraphText': 'At step 702, a set of AV cameras for intrinsic parameter calibration is identified and one or more calibration targets are placed. In some embodiments, the one or more calibration targets comprise at least a checkerboard pattern, at least an ArUco pattern, or at least a ring pattern used for calibration. In one example, the one or more calibration targets are mounted on one or more target support devices for guiding movements of the one or more calibration targets.'}, {'paragraphId': 'p0050', 'paragraphText': 'At step 704, the set of AV cameras are mounted on a camera holding jig used for guiding movements of the set of AV cameras. In some embodiments, the camera holding jig is mounted on a support frame comprising a set of horizontal rails and a set of vertical rails for guiding movements of the camera holding jig.'}, {'paragraphId': 'p0051', 'paragraphText': 'At set 706, the camera holding jig and/or the one or more calibration targets are moved towards a predetermined direction for a predetermined distance. In one example, the camera holding jig is moved along a horizontal rail or a vertical rail of the support frame. In another example, the one or more calibration targets are moved according to a desired target image angle and distance. For example, if a desired target image angle is 30° with respect to a reference angle, then the one or more calibration targets may be rotated by 30° by the one or more target support devices. In yet another example, the camera holding jig or the one or more target support devices receive/obtain a moving command signal from a processing unit, wherein the moving command signal comprises information of the predetermined direction and the predetermined distance.'}, {'paragraphId': 'p0052', 'paragraphText': 'At step 708, a calibration target image is captured and stored in each of the set of AV cameras. In one example, after the calibration target images are captured and stored, the set of AV cameras transmit the captured and stored images to the processing unit for further processing. In another example, the processing unit stores a set of image parameters for each of the captured and stored images, such as an angle or a distance from the calibration target image to each of the set of AV cameras.'}, {'paragraphId': 'p0053', 'paragraphText': 'At step 710, in each of the set of AV cameras, a total number of the captured and stored images for each of the one or more calibration targets is compared to a predetermined number. If the total number matches the predetermined number, then go to step 712; otherwise go back to step 706. In some embodiments, the predetermined number is determined based on an intrinsic calibration plan for the set of AV cameras.'}, {'paragraphId': 'p0054', 'paragraphText': 'At step 712, an intrinsic camera calibration is performed for each of the set of AV cameras. In some embodiments, the intrinsic camera calibration is performed at the processing unit using the captured and stored calibration target images and a reference calibration target image. Further details about intrinsic calibration are described with reference to FIG. 8 below.'}, {'paragraphId': 'p0055', 'paragraphText': 'At step 714, the set of AV cameras are mounted on an AV after the intrinsic calibration process is completed. In this way, the intrinsic calibration process is completed before the set of AV cameras are placed on the AV, and the calibration process does not need to place the AV on a conventional rotating platform. Thus, space, time and cost requirements associated with conventional techniques for calibration of AV cameras are significantly reduced.'}, {'paragraphId': 'p0056', 'paragraphText': 'At step 716, a change of at least one camera intrinsic parameter is verified after the set of AV cameras are mounted on the AV. If a change in at least one camera intrinsic parameter is detected, then go back to step 702; otherwise, stay in step 716 to continuously monitor changes of camera intrinsic parameters. One purpose of performing this step is that once calibrated, camera intrinsic parameters are still subject to drift over long periods of operation. For example, cumulative error may result in changes of camera focal length over time, and these changes may further degrade image quality captured by the set of AV cameras, and in turn impact AV operations. Thus, continuously monitoring changes of camera intrinsic parameters and applying re-calibration when necessary ensures image quality of the AV cameras and maintains AV operations in a safe manner.'}, {'paragraphId': 'p0057', 'paragraphText': 'FIG. 8 illustrates another example method 800 for calibrating camera intrinsic parameters in an AV, according to an embodiment of the present disclosure. In some embodiments, the method illustrated in FIG. 8 can be used to implement step 712 illustrated in FIG. 7. The operations of method 800 presented below are intended to be illustrative. In some embodiments, method 800 may be accomplished with one or more additional operations not described and/or without one or more of the operations discussed. Additionally, the order in which the operations of method 800 are illustrated in FIG. 8 and described below is not intended to be limiting.'}, {'paragraphId': 'p0058', 'paragraphText': 'At step 802, a set target images captured by an AV camera and a reference target image are received in a processing unit for camera intrinsic parameter calibration. In some embodiments, the set of captured target images are obtained by moving the AV camera mounted on a camera holding jig and a calibration target, as illustrated in the exemplary method in FIG. 7. In one example, a plurality of AV cameras is mounted on a camera holding jig, and each of the plurality of AV cameras captures a set target images. In another example, the reference target image comprises an undistorted, noise-free target image stored in the processing unit prior to receiving the captured target images.'}, {'paragraphId': 'p0059', 'paragraphText': 'At step 804, calibration control points are detected on each of the captured target images. Calibration control points may be referred to as specific points on a target image used to locate calibration image patterns. Examples of calibration control points include 4 vertices of a calibration board, corners for square image patterns, centers for circle or ring image patterns, and/or any other types of calibration control points. In one example, the calibration control points are detected using a corner detection operator for square image patterns by taking the differential of a corner score into account with reference to a direction. In another example, the calibration control points are detected using an iterative subpixel localization method with a gradient-based search. In still another example, the calibration control points are detected by first applying a maximally stable extremal regions (MSER) method to extract all regions that can potentially contain calibration patterns for circle or ring image patterns. Then each region containing calibration patterns is fitted using an ellipse fitting method. In some embodiments, the ellipse fitting method comprises fitting an ellipse equation of the form (x-h)2/a2+(y-k)2/b2=1 by finding the values of the parameters h, k, a and b. Next, regions that have the same shape and location may be grouped, and outlier regions that do not have a group may be filtered out. In some embodiments, distances between each region and all other regions are calculated and sorted. An average distance of the 3 nearest neighbors (i.e., the 3 regions with the shortest distances) for a specific region i can be calculated and denoted as di. In one example, a threshold value t is set such that for a specific region i, if di ≥ t, then the region i is considered as an outlier and removed from further analysis. Once regions are fitted, calibration control points may be identified by localizing geographical centers of each fitted region.'}, {'paragraphId': 'p0060', 'paragraphText': 'At step 806, camera intrinsic parameters are estimated using the detected calibration control points from step 804. In some embodiments, the camera intrinsic parameters comprise focal length, lens optical center, lens radial distortion, lens tangential distortion, and/or any other intrinsic parameters. In one example, the camera intrinsic parameters are estimated by solving a nonlinear minimization problem which minimizes a difference between a projected model of the captured target images and the reference target image. In another example, the Levenberg-Marquardt algorithm is used to solve the nonlinear minimization problem for estimating camera intrinsic parameters.'}, {'paragraphId': 'p0061', 'paragraphText': 'At step 808, the estimated camera intrinsic parameters at step 806 are used to undistort the captured target images to a canonical image pattern. A canonical image pattern of the captured target images may be referred to as an undistorted pattern of the captured target images. In some embodiments, the captured target images are undistorted using a matrix transform function with the estimated camera intrinsic parameters.'}, {'paragraphId': 'p0062', 'paragraphText': 'At step 810, calibration control points on the undistorted captured target images obtained in step 808 are localized. In one example, the calibration control points on the undistorted captured target images are localized using a corner detection operator for square image patterns by taking the differential of a corner score into account with reference to a direction. In another example, the calibration control points on the undistorted captured target images are localized using an iterative subpixel localization method with a gradient-based search.'}, {'paragraphId': 'p0063', 'paragraphText': 'At step 812, the calibration control points localized on the undistorted captured target images are projected back to the captured target images. In some embodiments, the calibration control points on the undistorted captured target images are projected back to the captured target images using a matrix transform function with the camera intrinsic parameters estimated in step 806.'}, {'paragraphId': 'p0064', 'paragraphText': 'At step 814, the camera intrinsic parameters are refined using the projected calibration control points from step 812. In some embodiments, the camera intrinsic parameters are re-estimated by solving a nonlinear minimization problem which minimizes a difference between the projected captured target images obtained at step 812 and the reference target image. In another example, the Levenberg-Marquardt algorithm is used to solve the nonlinear minimization problem for re-estimating the camera intrinsic parameters.'}, {'paragraphId': 'p0065', 'paragraphText': 'At step 816, a convergence of the camera intrinsic parameter estimation process is verified. If the convergence is reached, then end the calibration process; if the convergence is not reached, then go back to step 808. In some embodiments, convergence verification is performed using an iterative refinement algorithm. In one example, the convergence is verified by calculating a sample standard deviation of each of the camera intrinsic parameters. If the sample standard deviation of each of the camera intrinsic parameters is less than a predetermined standard deviation threshold value, then the convergence is reached; otherwise the convergence is not reached. In another example, the convergence is verified by calculating a reprojection error defined as a difference between a projected undistorted target image using the current camera intrinsic parameters and the reference target image. If the reprojection error is less than a predetermined reprojection error threshold value, then the convergence is reached; otherwise the convergence is not reached.'}, {'paragraphId': 'p0066', 'paragraphText': 'FIG. 9 illustrates a simplified computer system that can be used to implement various embodiments described and illustrated herein. A computer system 900 as illustrated in FIG. 9 may be incorporated into devices such as a portable electronic device, mobile phone, or other device as described herein. FIG. 9 provides a schematic illustration of one embodiment of a computer system 900 that can perform some or all of the steps of the methods provided by various embodiments. It should be noted that FIG. 9 is meant only to provide a generalized illustration of various components, any or all of which may be utilized as appropriate. FIG. 9, therefore, broadly illustrates how individual system elements may be implemented in a relatively separated or relatively more integrated manner.'}, {'paragraphId': 'p0067', 'paragraphText': 'The computer system 900 is shown comprising hardware elements that can be electrically coupled via a bus 905, or may otherwise be in communication, as appropriate. The hardware elements may include one or more processors 910, including without limitation one or more general-purpose processors and/or one or more special-purpose processors such as digital signal processing chips, graphics acceleration processors, and/or the like; one or more input devices 915, which can include without limitation a mouse, a keyboard, a camera, and/or the like; and one or more output devices 920, which can include without limitation a display device, a printer, and/or the like.'}, {'paragraphId': 'p0068', 'paragraphText': 'The computer system 900 may further include and/or be in communication with one or more non-transitory storage devices 925, which can comprise, without limitation, local and/or network accessible storage, and/or can include, without limitation, a disk drive, a drive array, an optical storage device, a solid-state storage device, such as a random access memory (\"RAM\"), and/or a read-only memory (\"ROM\"), which can be programmable, flash-updateable, and/or the like. Such storage devices may be configured to implement any appropriate data stores, including without limitation, various file systems, database structures, and/or the like.'}, {'paragraphId': 'p0069', 'paragraphText': 'The computer system 900 might also include a communications subsystem 930, which can include without limitation a modem, a network card (wireless or wired), an infrared communication device, a wireless communication device, and/or a chipset such as a Bluetooth™ device, an 1002.11 device, a WiFi device, a WiMax device, cellular communication facilities, etc., and/or the like. The communications subsystem 930 may include one or more input and/or output communication interfaces to permit data to be exchanged with a network such as the network described below to name one example, other computer systems, television, and/or any other devices described herein. Depending on the desired functionality and/or other implementation concerns, a portable electronic device or similar device may communicate image and/or other information via the communications subsystem 930. In other embodiments, a portable electronic device, e.g. the first electronic device, may be incorporated into the computer system 900, e.g., an electronic device as an input device 915. In some embodiments, the computer system 900 will further comprise a working memory 935, which can include a RAM or ROM device, as described above.'}, {'paragraphId': 'p0070', 'paragraphText': 'The computer system 900 also can include software elements, shown as being currently located within the working memory 935, including an operating system 960, device drivers, executable libraries, and/or other code, which may comprise computer programs provided by various embodiments, and/or may be designed to implement methods, and/or configure systems, provided by other embodiments, as described herein. Merely by way of example, one or more procedures described with respect to the methods discussed above, such as those described in relation to FIG. 7-8, might be implemented as code and/or instructions executable by a computer and/or a processor within a computer; in an aspect, then, such code and/or instructions can be used to configure and/or adapt a general purpose computer or other device to perform one or more operations in accordance with the described methods.'}, {'paragraphId': 'p0071', 'paragraphText': 'A set of these instructions and/or code may be stored on a non-transitory computer-readable storage medium, such as the storage device(s) 925 described above. In some cases, the storage medium might be incorporated within a computer system, such as computer system 900. In other embodiments, the storage medium might be separate from a computer system e.g., a removable medium, such as a compact disc, and/or provided in an installation package, such that the storage medium can be used to program, configure, and/or adapt a general purpose computer with the instructions/code stored thereon. These instructions might take the form of executable code, which is executable by the computer system 900 and/or might take the form of source and/or installable code, which, upon compilation and/or installation on the computer system 900 e.g., using any of a variety of generally available compilers, installation programs, compression/decompression utilities, etc., then takes the form of executable code.'}, {'paragraphId': 'p0072', 'paragraphText': 'It will be apparent to those skilled in the art that substantial variations may be made in accordance with specific requirements. For example, customized hardware might also be used, and/or particular elements might be implemented in hardware, software including portable software, such as applets, etc., or both. Further, connection to other computing devices such as network input/output devices may be employed.'}, {'paragraphId': 'p0073', 'paragraphText': 'As mentioned above, in one aspect, some embodiments may employ a computer system such as the computer system 900 to perform methods in accordance with various embodiments of the technology. According to a set of embodiments, some or all of the procedures of such methods are performed by the computer system 900 in response to processor 910 executing one or more sequences of one or more instructions, which might be incorporated into the operating system 960 and/or other code contained in the working memory 935. Such instructions may be read into the working memory 935 from another computer-readable medium, such as one or more of the storage device(s) 925. Merely by way of example, execution of the sequences of instructions contained in the working memory 935 might cause the processor(s) 910 to perform one or more procedures of the methods described herein. Additionally or alternatively, portions of the methods described herein may be executed through specialized hardware.'}, {'paragraphId': 'p0074', 'paragraphText': 'The terms \"machine-readable medium\" and \"computer-readable medium,\" as used herein, refer to any medium that participates in providing data that causes a machine to operate in a specific fashion. In an embodiment implemented using the computer system 900, various computer-readable media might be involved in providing instructions/code to processor(s) 910 for execution and/or might be used to store and/or carry such instructions/code. In many implementations, a computer-readable medium is a physical and/or tangible storage medium. Such a medium may take the form of a non-volatile media or volatile media. Non-volatile media include, for example, optical and/or magnetic disks, such as the storage device(s) 925. Volatile media include, without limitation, dynamic memory, such as the working memory 935.'}, {'paragraphId': 'p0075', 'paragraphText': 'Common forms of physical and/or tangible computer-readable media include, for example, a floppy disk, a flexible disk, hard disk, magnetic tape, or any other magnetic medium, a CD-ROM, any other optical medium, punch cards, paper tape, any other physical medium with patterns of holes, a RAM, a PROM, EPROM, a FLASH-EPROM, any other memory chip or cartridge, or any other medium from which a computer can read instructions and/or code.'}, {'paragraphId': 'p0076', 'paragraphText': 'Various forms of computer-readable media may be involved in carrying one or more sequences of one or more instructions to the processor(s) 910 for execution. Merely by way of example, the instructions may initially be carried on a magnetic disk and/or optical disc of a remote computer. A remote computer might load the instructions into its dynamic memory and send the instructions as signals over a transmission medium to be received and/or executed by the computer system 900.'}, {'paragraphId': 'p0077', 'paragraphText': 'The communications subsystem 930 and/or components thereof generally will receive signals, and the bus 905 then might carry the signals and/or the data, instructions, etc. carried by the signals to the working memory 935, from which the processor(s) 910 retrieves and executes the instructions. The instructions received by the working memory 935 may optionally be stored on a non-transitory storage device 925 either before or after execution by the processor(s) 910.'}, {'paragraphId': 'p0078', 'paragraphText': 'While several embodiments have been provided in this disclosure, it should be understood that the disclosed systems and methods might be embodied in many other specific forms without departing from the spirit or scope of this disclosure. The present examples are to be considered as illustrative and not restrictive, and the intention is not to be limited to the details given herein. For example, the various elements or components may be combined or integrated in another system or certain features may be omitted, or not implemented.'}, {'paragraphId': 'p0079', 'paragraphText': 'In addition, techniques, systems, subsystems, and methods described and illustrated in the various embodiments as discrete or separate may be combined or integrated with other systems, modules, techniques, or methods without departing from the scope of this disclosure. Other items shown or discussed as coupled or directly coupled or communicating with each other may be indirectly coupled or communicating through some interface, device, or intermediate component whether electrically, mechanically, or otherwise. Other examples of changes, substitutions, and alterations are ascertainable by one skilled in the art and could be made without departing from the spirit and scope disclosed herein.'}, {'paragraphId': 'p0080', 'paragraphText': 'To aid the Patent Office, and any readers of any patent issued on this application in interpreting the claims appended hereto, applicants note that they do not intend any of the appended claims to invoke 3 5 U.S.C. § 112(f) as it exists on the date of filing hereof unless the words \"means for\" or \"step for\" are explicitly used in the particular claim.'}, {'paragraphId': 'p0081', 'paragraphText': 'Also disclosed herein are the following numbered clauses: 1. A method for vehicle camera calibration, the method comprising: receiving a first set of imagery data, wherein the first set of imagery data comprises one or more reference images for one or more calibration targets; moving at least one of the one or more calibration targets and one or more cameras for a predetermined number of steps, wherein in each of the predetermined number of steps: at least one of the one or more calibration targets or the one or more cameras are moved for a predetermined distance towards a predetermined direction, and the one or more cameras are configured to capture a second set of imagery data, wherein the second set of imagery data comprises captured images of the one or more calibration targets; and calibrating one or more camera intrinsic parameters in the one or more cameras based on the first set of imagery data and the second set of imagery data. 2. The method of clause 1, further comprising moving the one or more cameras by a camera holding jig along a horizontal rail or a vertical rail of a support frame, wherein the horizontal rail and the vertical rail are configured to guide movements of the camera holding jig. 3. The method of clause 1, further comprising localizing one or more calibration pattern control points on the captured images of the one or more calibration targets in the second set of imagery data. 4. The method of clause 3, further comprising localizing the one or more calibration pattern control points using a maximally stable extreme region extractor (MSER). 5. The method of clause 1, further comprising converting the captured images of the one or more calibration targets to a first image format. 6. The method of clause 3, wherein the one or more calibration pattern control points are 4 vertices of a calibration board. 7. The method of clause 1, wherein the one or more calibration targets comprise at least a checkerboard pattern. 8. The method of clause 1, further comprising calibrating the one or more camera intrinsic parameters using an iterative refinement algorithm. 9. The method of clause 1, further comprising recalibrating the one or more camera intrinsic parameters after the one or more cameras are mounted on the vehicle if a change of at least one camera intrinsic parameter is detected. 10. The method of clause 1, wherein the one or more camera intrinsic parameters comprise focal length, lens optical center, lens radial distortion, and lens tangential distortion. 11. A system configured for vehicle camera calibration, the system comprising: one or more hardware processors configured by machine-readable instructions to: receive a first set of imagery data, wherein the first set of imagery data comprises one or more reference images for one or more calibration targets; move at least one of the one or more calibration targets and one or more cameras for a predetermined number of steps, wherein in each of the predetermined number of steps: at least one of the one or more calibration targets or the one or more cameras are moved for a predetermined distance towards a predetermined direction, and the one or more cameras are configured to capture a second set of imagery data, wherein the second set of imagery data comprises captured images of the one or more calibration targets; and calibrate one or more camera intrinsic parameters in the one or more cameras based on the first set of imagery data and the second set of imagery data. 12. The system of clause 11, wherein the one or more hardware processors are further configured by machine-readable instructions to localize one or more calibration pattern control points on the captured images of the one or more calibration targets in the second set of imagery data using an ellipse fitting function. 13. The system of clause 12, wherein the one or more hardware processors are further configured by machine-readable instructions to localize the one or more calibration pattern control points using an iterative subpixel localization method with a gradient-based search. 14. The system of clause 12, wherein the one or more hardware processors are further configured by machine-readable instructions to localize the one or more calibration pattern control points using a nearest neighbors function. 15. The system of clause 12, wherein the one or more calibration pattern control points are corners of square image patterns. 16. The system of clause 12, wherein the one or more calibration pattern control points are centers of circle image patterns. 17. The system of clause 12, wherein the one or more calibration pattern control points are centers of ring image patterns. 18. The system of clause 11, wherein the one or more calibration targets comprise at least an ArUco pattern. 19. The system of clause 11, wherein the one or more calibration targets comprise at least a ring pattern. 20. A non-transient computer-readable storage medium having instructions embodied thereon, the instructions being executable by one or more processors to perform a method for vehicle camera calibration, the method comprising: receiving a first set of imagery data, wherein the first set of imagery data comprises one or more reference images for one or more calibration targets; moving at least one of the one or more calibration targets and one or more cameras for a predetermined number of steps, wherein in each of the predetermined number of steps: at least one of the one or more calibration targets or the one or more cameras are moved for a predetermined distance towards a predetermined direction, and the one or more cameras are configured to capture a second set of imagery data, wherein the second set of imagery data comprises captured images of the one or more calibration targets; calibrating one or more camera intrinsic parameters in the one or more cameras based on the first set of imagery data and the second set of imagery data; mounting the one or more cameras on a vehicle; and recalibrating the one or more camera intrinsic parameters after the one or more cameras are mounted on the vehicle if a change of at least one camera intrinsic parameter is detected.'}]}], 'claims': [{'claimId': 'c-en-0001', 'claimText': 'A method for vehicle camera calibration, the method comprising: receiving a first set of imagery data, wherein the first set of imagery data comprises one or more reference images for one or more calibration targets; moving at least one of the one or more calibration targets and one or more cameras for a predetermined number of steps, wherein in each of the predetermined number of steps: at least one of the one or more calibration targets or the one or more cameras are moved for a predetermined distance towards a predetermined direction, and the one or more cameras are configured to capture a second set of imagery data, wherein the second set of imagery data comprises captured images of the one or more calibration targets; and calibrating one or more camera intrinsic parameters in the one or more cameras based on the first set of imagery data and the second set of imagery data.'}, {'claimId': 'c-en-0002', 'claimText': 'The method of claim 1, further comprising moving the one or more cameras by a camera holding jig along a horizontal rail or a vertical rail of a support frame, wherein the horizontal rail and the vertical rail are configured to guide movements of the camera holding jig.'}, {'claimId': 'c-en-0003', 'claimText': 'The method of claim 1 or 2, further comprising localizing one or more calibration pattern control points on the captured images of the one or more calibration targets in the second set of imagery data.'}, {'claimId': 'c-en-0004', 'claimText': 'The method of claim 3, further comprising localizing the one or more calibration pattern control points using a maximally stable extreme region extractor (MSER).'}, {'claimId': 'c-en-0005', 'claimText': 'The method of any preceding claim, further comprising converting the captured images of the one or more calibration targets to a first image format.'}, {'claimId': 'c-en-0006', 'claimText': 'The method of claim 3 or 4, wherein the one or more calibration pattern control points are 4 vertices of a calibration board.'}, {'claimId': 'c-en-0007', 'claimText': 'The method of any preceding claim, wherein the one or more calibration targets comprise at least a checkerboard pattern, at least an ArUco pattern, or at least a ring pattern.'}, {'claimId': 'c-en-0008', 'claimText': 'The method of any preceding claim, further comprising calibrating the one or more camera intrinsic parameters using an iterative refinement algorithm.'}, {'claimId': 'c-en-0009', 'claimText': 'The method of any preceding claim, further comprising recalibrating the one or more camera intrinsic parameters after the one or more cameras are mounted on the vehicle if a change of at least one camera intrinsic parameter is detected.'}, {'claimId': 'c-en-0010', 'claimText': 'The method of any preceding claim, wherein the one or more camera intrinsic parameters comprise focal length, lens optical center, lens radial distortion, and lens tangential distortion.'}, {'claimId': 'c-en-0011', 'claimText': 'The method of claim 3 or 4, further comprising localizing the one or more calibration pattern control points on the captured images of the one or more calibration targets in the second set of imagery data using an ellipse fitting function.'}, {'claimId': 'c-en-0012', 'claimText': 'The method of claim 11, further comprising localizing the one or more calibration pattern control points using either an iterative subpixel localization method with a gradient-based search, or a nearest neighbors function.'}, {'claimId': 'c-en-0013', 'claimText': 'The method of claim 11 or 12, wherein one or more calibration pattern control points are corners of square image patterns, centers of circle image patterns or centers of ring image patterns.'}, {'claimId': 'c-en-0014', 'claimText': 'A system configured for vehicle camera calibration, the system comprising: one or more hardware processors configured by machine-readable instructions to perform the method of any preceding claim'}, {'claimId': 'c-en-0015', 'claimText': 'A non-transient computer-readable storage medium having instructions embodied thereon, the instructions being executable by one or more processors to perform a method for vehicle camera calibration, the method comprising the method of any of claims 1 to 13.'}], 'resourceId': 'EP_EP23178140A1'}}\n"
          ]
        }
      ]
    }
  ]
}